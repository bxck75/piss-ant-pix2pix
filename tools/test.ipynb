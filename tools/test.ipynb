{
 "cells": [
  {
   "cell_type": "code",
   "execution_count": 1,
   "metadata": {},
   "outputs": [],
   "source": [
    "import numpy as np\n",
    "import matplotlib.pyplot as plt\n",
    "from skimage.filters import roberts, sobel, scharr, prewitt, gabor\n",
    "from scipy.misc import imread\n",
    "import tfimage as im\n",
    "import glob\n",
    "import os\n",
    "def rgb2gray(rgb):\n",
    "    return np.dot(rgb[...,:3], [0.299, 0.587, 0.114])"
   ]
  },
  {
   "cell_type": "code",
   "execution_count": 2,
   "metadata": {},
   "outputs": [],
   "source": [
    "import tfimage as im\n",
    "import glob\n",
    "import os\n",
    "img_files0 = glob.glob(os.path.join('b', \"*.jpg\"))\n",
    "img_files = glob.glob(os.path.join('a', \"*.jpg\"))"
   ]
  },
  {
   "cell_type": "code",
   "execution_count": 3,
   "metadata": {},
   "outputs": [
    {
     "ename": "NameError",
     "evalue": "name 'scipy' is not defined",
     "output_type": "error",
     "traceback": [
      "\u001b[0;31m---------------------------------------------------------------------------\u001b[0m",
      "\u001b[0;31mNameError\u001b[0m                                 Traceback (most recent call last)",
      "\u001b[0;32m<ipython-input-3-8338cb7be2a8>\u001b[0m in \u001b[0;36m<module>\u001b[0;34m\u001b[0m\n\u001b[1;32m      1\u001b[0m \u001b[0;32mimport\u001b[0m \u001b[0mmatplotlib\u001b[0m\u001b[0;34m.\u001b[0m\u001b[0mpyplot\u001b[0m \u001b[0;32mas\u001b[0m \u001b[0mplt\u001b[0m\u001b[0;34m\u001b[0m\u001b[0m\n\u001b[0;32m----> 2\u001b[0;31m \u001b[0mimage\u001b[0m \u001b[0;34m=\u001b[0m \u001b[0mscipy\u001b[0m\u001b[0;34m.\u001b[0m\u001b[0mmisc\u001b[0m\u001b[0;34m.\u001b[0m\u001b[0mimread\u001b[0m\u001b[0;34m(\u001b[0m\u001b[0;34m'c/00a0d0b0-0b11-4984-ac33-3eb3b37bb16d.jpg'\u001b[0m\u001b[0;34m)\u001b[0m\u001b[0;34m\u001b[0m\u001b[0m\n\u001b[0m\u001b[1;32m      3\u001b[0m \u001b[0mimage1\u001b[0m \u001b[0;34m=\u001b[0m \u001b[0mscipy\u001b[0m\u001b[0;34m.\u001b[0m\u001b[0mmisc\u001b[0m\u001b[0;34m.\u001b[0m\u001b[0mimread\u001b[0m\u001b[0;34m(\u001b[0m\u001b[0;34m'a/00a0d0b0-0b11-4984-ac33-3eb3b37bb16d.jpg'\u001b[0m\u001b[0;34m)\u001b[0m\u001b[0;34m\u001b[0m\u001b[0m\n\u001b[1;32m      4\u001b[0m \u001b[0mimage2\u001b[0m \u001b[0;34m=\u001b[0m \u001b[0mscipy\u001b[0m\u001b[0;34m.\u001b[0m\u001b[0mmisc\u001b[0m\u001b[0;34m.\u001b[0m\u001b[0mimread\u001b[0m\u001b[0;34m(\u001b[0m\u001b[0;34m'b/00a0d0b0-0b11-4984-ac33-3eb3b37bb16d.jpg'\u001b[0m\u001b[0;34m)\u001b[0m\u001b[0;34m\u001b[0m\u001b[0m\n\u001b[1;32m      5\u001b[0m \u001b[0mplt\u001b[0m\u001b[0;34m.\u001b[0m\u001b[0mimshow\u001b[0m\u001b[0;34m(\u001b[0m\u001b[0mimage\u001b[0m\u001b[0;34m,\u001b[0m \u001b[0mcmap\u001b[0m\u001b[0;34m=\u001b[0m\u001b[0mplt\u001b[0m\u001b[0;34m.\u001b[0m\u001b[0mcm\u001b[0m\u001b[0;34m.\u001b[0m\u001b[0mgray\u001b[0m\u001b[0;34m)\u001b[0m\u001b[0;34m\u001b[0m\u001b[0m\n",
      "\u001b[0;31mNameError\u001b[0m: name 'scipy' is not defined"
     ]
    }
   ],
   "source": [
    "import matplotlib.pyplot as plt\n",
    "image = scipy.misc.imread('c/00a0d0b0-0b11-4984-ac33-3eb3b37bb16d.jpg')\n",
    "image1 = scipy.misc.imread('a/00a0d0b0-0b11-4984-ac33-3eb3b37bb16d.jpg')\n",
    "image2 = scipy.misc.imread('b/00a0d0b0-0b11-4984-ac33-3eb3b37bb16d.jpg')\n",
    "plt.imshow(image, cmap=plt.cm.gray)\n",
    "plt.show()\n",
    "image.shape\n",
    "print(np.max(image))\n",
    "h, w, c = image.shape\n",
    "l = image[:, :w//2,:]\n",
    "r = image[:, w//2:,:]"
   ]
  },
  {
   "cell_type": "code",
   "execution_count": null,
   "metadata": {},
   "outputs": [],
   "source": [
    "from scipy.misc import imread,imsave\n",
    "import matplotlib.pyplot as plt\n",
    "image = imread('../data/test.png')\n",
    "plt.imshow(image[:,:,:3])\n",
    "imsave('../data/test.jpg',image[:,:,:3])\n",
    "plt.show()"
   ]
  },
  {
   "cell_type": "code",
   "execution_count": null,
   "metadata": {},
   "outputs": [],
   "source": [
    "import glob\n",
    "import os\n",
    "import scipy.misc\n",
    "import matplotlib.pyplot as plt\n",
    "data = glob.glob(os.path.join('../data/b', '*.jpg'))\n",
    "for i in range(len(data)):\n",
    "    img = scipy.misc.imread(data[i])\n",
    "    if img.shape[2]!=3:\n",
    "        print data[i]\n",
    "        scipy.misc.imsave(data[i], img[:,:,:3])"
   ]
  },
  {
   "cell_type": "code",
   "execution_count": null,
   "metadata": {},
   "outputs": [],
   "source": [
    "img = scipy.misc.imread('../data/b/556c197f-5c2f-488d-bf9f-ea85a3ac4e42.jpg')\n",
    "print img.shape\n",
    "plt.imshow(img[:,:,:3])\n",
    "plt.show()"
   ]
  },
  {
   "cell_type": "code",
   "execution_count": null,
   "metadata": {},
   "outputs": [],
   "source": [
    "from skimage.filters import gabor\n",
    "img = img[:,:,:3]\n",
    "img2_r, img2_i = gabor(rgb2gray(img), frequency=.1, theta=0, bandwidth=1, sigma_x=1, sigma_y=1, n_stds=3, offset=0, mode='reflect', cval=0)\n",
    "plt.imshow(img2_r)\n",
    "plt.show()"
   ]
  },
  {
   "cell_type": "code",
   "execution_count": null,
   "metadata": {},
   "outputs": [],
   "source": [
    "image1 = np.expand_dims(image1, axis=2)\n",
    "image1 = np.repeat(image1, 3, axis=2)\n",
    "print image2.shape"
   ]
  },
  {
   "cell_type": "code",
   "execution_count": null,
   "metadata": {},
   "outputs": [],
   "source": [
    "image = imread(img_files0[0])/255.0\n",
    "plt.imshow(image)\n",
    "plt.show()\n",
    "image.shape\n",
    "print np.max(image)"
   ]
  },
  {
   "cell_type": "code",
   "execution_count": null,
   "metadata": {},
   "outputs": [],
   "source": [
    "import tfimage as im\n",
    "import tensorflow as tf\n",
    "with tf.Session() as sess:\n",
    "    image = im.load('a/0000b521-ebae-4c9b-93ae-1c4f53251589.jpg')"
   ]
  },
  {
   "cell_type": "code",
   "execution_count": null,
   "metadata": {},
   "outputs": [],
   "source": [
    "os.path.splitext(os.path.basename(img_files[0]))"
   ]
  },
  {
   "cell_type": "code",
   "execution_count": null,
   "metadata": {},
   "outputs": [],
   "source": [
    "import scipy.misc\n",
    "c = 0\n",
    "for img_file in img_files:\n",
    "    image = imread(img_file)\n",
    "    edge = sobel(rgb2gray(image))\n",
    "    fn, suffix = os.path.splitext(os.path.basename(img_file))\n",
    "    path = '/'.join(['a', fn])+'.jpg'\n",
    "    scipy.misc.imsave(path,edge)\n",
    "    c+=1\n",
    "    if c%10000==0:\n",
    "        print c"
   ]
  },
  {
   "cell_type": "code",
   "execution_count": null,
   "metadata": {},
   "outputs": [],
   "source": [
    "import scipy.misc\n",
    "import numpy as np\n",
    "import glob\n",
    "import os\n",
    "out_dir = 'c'\n",
    "img_files = glob.glob(os.path.join('a', \"*.jpg\"))\n",
    "for i in range(len(img_files)):\n",
    "    fn = os.path.basename(img_files[i])\n",
    "    l = scipy.misc.imread(os.path.join('a', fn))\n",
    "    l = np.expand_dims(l, axis=2)\n",
    "    l = np.repeat(l, 3, axis=2)\n",
    "    r = scipy.misc.imread(os.path.join('b', fn))\n",
    "    try:\n",
    "        img_tosave = np.concatenate([l,r], axis=1)\n",
    "        path = '/'.join(['c', fn])\n",
    "        scipy.misc.imsave(path, img_tosave)\n",
    "    except:\n",
    "        continue\n",
    "    if i%1000==0:\n",
    "        print i"
   ]
  },
  {
   "cell_type": "code",
   "execution_count": null,
   "metadata": {},
   "outputs": [],
   "source": [
    "from glob import glob\n",
    "import os\n",
    "import scipy.misc\n",
    "data = glob(os.path.join('../data/test', '6-targets.png'))\n",
    "print len(data)\n",
    "img = scipy.misc.imread(data[0])\n",
    "img.shape"
   ]
  },
  {
   "cell_type": "code",
   "execution_count": null,
   "metadata": {},
   "outputs": [],
   "source": [
    "import scipy.misc\n",
    "import numpy as np\n",
    "from skimage.filters import roberts\n",
    "from skimage import util \n",
    "for d in data:\n",
    "    img = scipy.misc.imread(d)\n",
    "    img = img[:,:,:3]\n",
    "    r = scipy.misc.imresize(img, [256,256])\n",
    "    l = roberts(rgb2gray(r))\n",
    "    l = np.expand_dims(l, axis=2)\n",
    "    l = np.repeat(l, 3, axis=2)\n",
    "    img_tosave = np.concatenate([l,r], axis=1)\n",
    "    scipy.misc.imsave(d, img_tosave)\n",
    "    print d"
   ]
  },
  {
   "cell_type": "code",
   "execution_count": null,
   "metadata": {},
   "outputs": [],
   "source": [
    "from skimage.data import camera\n",
    "img = camera()\n",
    "plt.imshow(img, cmap=plt.cm.gray)\n",
    "plt.show()"
   ]
  },
  {
   "cell_type": "code",
   "execution_count": null,
   "metadata": {},
   "outputs": [],
   "source": [
    "from shutil import copyfile\n",
    "import glob\n",
    "import os\n",
    "img_files = glob.glob(os.path.join('../data/c', \"*.jpg\"))[:100]\n",
    "for f in img_files:\n",
    "    f = os.path.basename(f)\n",
    "    for k in ['../data/c', '../data/b', '../data/a']:\n",
    "        copyfile(os.path.join(k, f), os.path.join(k+'1', f))"
   ]
  }
 ],
 "metadata": {
  "anaconda-cloud": {},
  "kernelspec": {
   "display_name": "Python 3",
   "language": "python",
   "name": "python3"
  },
  "language_info": {
   "codemirror_mode": {
    "name": "ipython",
    "version": 3
   },
   "file_extension": ".py",
   "mimetype": "text/x-python",
   "name": "python",
   "nbconvert_exporter": "python",
   "pygments_lexer": "ipython3",
   "version": "3.5.0"
  }
 },
 "nbformat": 4,
 "nbformat_minor": 1
}
