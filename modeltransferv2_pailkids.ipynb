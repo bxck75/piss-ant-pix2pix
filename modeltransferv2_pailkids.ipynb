{
  "nbformat": 4,
  "nbformat_minor": 0,
  "metadata": {
    "colab": {
      "name": "modeltransferv2_pailkids",
      "provenance": [],
      "private_outputs": true,
      "collapsed_sections": [],
      "include_colab_link": true
    },
    "kernelspec": {
      "name": "python3",
      "display_name": "Python 3"
    },
    "accelerator": "GPU"
  },
  "cells": [
    {
      "cell_type": "markdown",
      "metadata": {
        "id": "view-in-github",
        "colab_type": "text"
      },
      "source": [
        "<a href=\"https://colab.research.google.com/github/bxck75/piss-ant-pix2pix/blob/master/modeltransferv2_pailkids.ipynb\" target=\"_parent\"><img src=\"https://colab.research.google.com/assets/colab-badge.svg\" alt=\"Open In Colab\"/></a>"
      ]
    },
    {
      "cell_type": "code",
      "metadata": {
        "id": "mcGsrSyVEVLc",
        "colab_type": "code",
        "colab": {}
      },
      "source": [
        "# remove defaults\n",
        "!rm -r sample_data\n",
        "# Clone the repo\n",
        "!git clone https://github.com/bxck75/Python_Helpers.git\n",
        "\n",
        "# Change dir\n",
        "%cd /content/Python_Helpers\n",
        "# install\n",
        "!python setup.py install\n",
        "\n",
        "from IPython.display import clear_output\n",
        "import main\n",
        "import os\n",
        "import sys\n",
        "import IPython\n",
        "import Helpers\n",
        "P=Helpers.core.Core()\n",
        "hlp=P.H\n",
        "clear_output()"
      ],
      "execution_count": 0,
      "outputs": []
    },
    {
      "cell_type": "code",
      "metadata": {
        "id": "ZwAVOi1WEPPY",
        "colab_type": "code",
        "colab": {}
      },
      "source": [
        "# get repo\n",
        "%cd /content/\n",
        "hlp.repolist= hlp.repo_collection\n",
        "repos_sorted = hlp.repo_collection.repos_sorted\n",
        "A1=['bxck75/piss-ant-pix2pix']\n",
        "hlp.Me(['inst_reps',A1,'/content/installed_repos',False,True])\n",
        "clear_output()"
      ],
      "execution_count": 0,
      "outputs": []
    },
    {
      "cell_type": "code",
      "metadata": {
        "id": "CS20whuQLlWe",
        "colab_type": "code",
        "colab": {}
      },
      "source": [
        "# get images\n",
        "%cd /content/\n",
        "# images_set_name='insect'\n",
        "# images_set_code='1fbEUcBIvLwjlVFrUiW2g8KtRTvFSsW9D'\n",
        "# images_model_code='1eFR5ZHfp5PzPEnFv_v3xxE9T0tKPJTS4'\n",
        "\n",
        "# https://drive.google.com/open?id=1PUEpLgRfKKDvaMAVtKBVr-Z0ThQvOGWv # images\n",
        "# https://drive.google.com/open?id=1vLmCOaActAAZ0bHdrv0YgP-rCnYHX0O9\n",
        "\n",
        "# images_set_name='apes'\n",
        "# images_set_code='1PUEpLgRfKKDvaMAVtKBVr-Z0ThQvOGWv'\n",
        "# images_model_code='1vLmCOaActAAZ0bHdrv0YgP-rCnYHX0O9'\n",
        "\n",
        "# https://drive.google.com/open?id=1nb8yr9TIJaiB1GFN9S4mD5GfTNvEQpW-\n",
        "images_set_name='garbagepailkids'\n",
        "images_set_code='1nb8yr9TIJaiB1GFN9S4mD5GfTNvEQpW-'\n",
        "images_model_code='1tp8Gm1fMuSQoLEEXQ_C1Dlw1N4wwFxKb'\n",
        "\n",
        "Helpers.GdriveD.GdriveD(images_set_code, '/content/'+images_set_name+'.zip')\n",
        "!unzip /content/{images_set_name}.zip\n",
        "clear_output()"
      ],
      "execution_count": 0,
      "outputs": []
    },
    {
      "cell_type": "code",
      "metadata": {
        "id": "eW2829u8K3oC",
        "colab_type": "code",
        "colab": {}
      },
      "source": [
        "# make dataset\n",
        "%cd /content/installed_repos/piss-ant-pix2pix\n",
        "!bash image_folder_make_set_train_colab.sh /content/{images_set_name} 1 prep\n",
        "clear_output()"
      ],
      "execution_count": 0,
      "outputs": []
    },
    {
      "cell_type": "code",
      "metadata": {
        "id": "Vky0_HEvLT3p",
        "colab_type": "code",
        "colab": {}
      },
      "source": [
        "''' \n",
        "    startup loop  1x\n",
        "    # 1 get metric from gdrive\n",
        "    2 train 5 epochs\n",
        "    3 dump metrics to gdrive with the same file id \n",
        "'''\n",
        "for i in range(1):\n",
        "    # fetch metrics\n",
        "    %cd /content/\n",
        "    # Helpers.GdriveD.GdriveD(images_model_code, '/content/'+images_set_name+'_model_in.zip')\n",
        "    # !unzip /content/{images_set_name}_model_in.zip -d metrics/\n",
        "    # !rm -r /content/metrics/options.json\n",
        "    # train epochs\n",
        "    %cd /content/installed_repos/piss-ant-pix2pix\n",
        "    !python pix2pix.py --output_dir /content/metrics --progress_freq 100 --save_freq 150 --summary_freq 100 --display_freq 100 --max_epochs 1 --mode train --input_dir /content/{images_set_name}images/_combined/train --which_direction 'BtoA'\n",
        "    # dump metrics\n",
        "    %cd /content/\n",
        "    Helpers.Core()\n",
        "    obj=Helpers.core.Core()\n",
        "    folder_of_model='metrics'\n",
        "    result=obj.H.zip(images_set_name+'model',obj.Gdrive_root+'/models',folder_of_model).ZipUp\n",
        "    zip_hash=result.split('(id) ')[1]\n",
        "    print(zip_hash)\n",
        "    # delete old crap\n",
        "    !rm -r /content/metrics\n",
        "    !rm -r /content/{images_set_name}model.zip"
      ],
      "execution_count": 0,
      "outputs": []
    },
    {
      "cell_type": "markdown",
      "metadata": {
        "id": "w9whUNUbJxLw",
        "colab_type": "text"
      },
      "source": [
        "start values\n",
        "progress  epoch 1  step 10  image/sec 0.7  remaining 122m\n",
        "dloss_GAN 0.11989411\n",
        "gloss_GAN 0.060013566\n",
        "gloss_L1 0.043864187"
      ]
    },
    {
      "cell_type": "code",
      "metadata": {
        "id": "D_YjfSe8JOfy",
        "colab_type": "code",
        "colab": {}
      },
      "source": [
        "''' \n",
        "    loop  10x\n",
        "    1 get metric from gdrive\n",
        "    2 train 5 epochs\n",
        "    3 dump metrics to gdrive with the same file id \n",
        "'''\n",
        "for i in range(10):\n",
        "    # fetch metrics\n",
        "    %cd /content/\n",
        "    Helpers.GdriveD.GdriveD(images_model_code, '/content/'+images_set_name+'_model_in.zip')\n",
        "    !unzip /content/{images_set_name}_model_in.zip -d metrics/\n",
        "    !rm -r /content/metrics/options.json\n",
        "    # train epochs\n",
        "    %cd /content/installed_repos/piss-ant-pix2pix\n",
        "    !python pix2pix.py --checkpoint /content/metrics --output_dir /content/metrics --progress_freq 10 --save_freq 50 --summary_freq 50 --display_freq 200 --max_epochs 5 --mode train --input_dir /content/{images_set_name}images/_combined/train --which_direction 'BtoA'\n",
        "    # dump metrics\n",
        "    %cd /content/\n",
        "    # delete unwanted\n",
        "    !rm -r /content/metrics/images\n",
        "    !rm -r /content/metrics/events.out.tfevents*\n",
        "    !rm -r /content/metrics/index.html\n",
        "    Helpers.Core()\n",
        "    obj=Helpers.core.Core()\n",
        "    folder_of_model='metrics'\n",
        "    result=obj.H.zip(images_set_name+'model',obj.Gdrive_root+'/models',folder_of_model).ZipUp\n",
        "    zip_hash=result.split('(id) ')[1]\n",
        "    print(zip_hash)\n",
        "    # delete old crap\n",
        "    !rm -r /content/metrics\n",
        "    !rm -r /content/{images_set_name}model.zip"
      ],
      "execution_count": 0,
      "outputs": []
    },
    {
      "cell_type": "code",
      "metadata": {
        "id": "ypa7AzDYG-Ca",
        "colab_type": "code",
        "colab": {}
      },
      "source": [
        "# # rewrite checkpointfile\n",
        "# !echo 'model_checkpoint_path: \"/content/metrics/model-21880\"' > /content/metrics/checkpoint\n",
        "# !echo 'all_model_checkpoint_paths: \"/content/metrics/model-21880\"' >> /content/metrics/checkpoint"
      ],
      "execution_count": 0,
      "outputs": []
    },
    {
      "cell_type": "code",
      "metadata": {
        "id": "xPvviEG3EcsD",
        "colab_type": "code",
        "colab": {}
      },
      "source": [
        "# download/unzip metrics \n",
        "# Get pretrained metrics\n",
        "%cd /content/\n",
        "Helpers.GdriveD.GdriveD(images_model_code, '/content/'+images_set_name+'_model_in.zip')\n",
        "!unzip /content/{images_set_name}_model_in.zip -d metrics/"
      ],
      "execution_count": 0,
      "outputs": []
    },
    {
      "cell_type": "code",
      "metadata": {
        "id": "-SdaTrm4g_KU",
        "colab_type": "code",
        "colab": {}
      },
      "source": [
        "# remove old crap before rezipping\n",
        "!rm -r /content/metrics/images\n",
        "!rm -r /content/metrics/events.out.tfevents*\n",
        "!rm -r /content/metrics/index.html"
      ],
      "execution_count": 0,
      "outputs": []
    },
    {
      "cell_type": "code",
      "metadata": {
        "colab_type": "code",
        "id": "gQn7oz9xVXKW",
        "colab": {}
      },
      "source": [
        "# rezip\n",
        "%cd /content/\n",
        "Helpers.Core()\n",
        "obj=Helpers.core.Core()\n",
        "folder_of_model='metrics'\n",
        "print(obj.Gdrive_root+'/models')\n",
        "result=obj.H.zip(images_set_name+'model',obj.Gdrive_root+'/models',folder_of_model).ZipUp\n",
        "# print(result)\n",
        "zip_hash=result.split('(id) ')[1]\n",
        "print(zip_hash)"
      ],
      "execution_count": 0,
      "outputs": []
    }
  ]
}