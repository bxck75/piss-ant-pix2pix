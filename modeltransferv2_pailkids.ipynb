{
  "nbformat": 4,
  "nbformat_minor": 0,
  "metadata": {
    "colab": {
      "name": "modeltransferv2_pailkids",
      "provenance": [],
      "private_outputs": true,
      "collapsed_sections": [],
      "include_colab_link": true
    },
    "kernelspec": {
      "name": "python3",
      "display_name": "Python 3"
    },
    "accelerator": "GPU"
  },
  "cells": [
    {
      "cell_type": "markdown",
      "metadata": {
        "id": "view-in-github",
        "colab_type": "text"
      },
      "source": [
        "<a href=\"https://colab.research.google.com/github/bxck75/piss-ant-pix2pix/blob/master/modeltransferv2_pailkids.ipynb\" target=\"_parent\"><img src=\"https://colab.research.google.com/assets/colab-badge.svg\" alt=\"Open In Colab\"/></a>"
      ]
    },
    {
      "cell_type": "code",
      "metadata": {
        "id": "mcGsrSyVEVLc",
        "colab_type": "code",
        "colab": {}
      },
      "source": [
        "# remove defaults\n",
        "!rm -r sample_data\n",
        "# Clone the repo\n",
        "!git clone https://github.com/bxck75/Python_Helpers.git\n",
        "\n",
        "# Change dir\n",
        "%cd /content/Python_Helpers\n",
        "# install\n",
        "!python setup.py install\n",
        "\n",
        "from IPython.display import clear_output\n",
        "import main\n",
        "import os\n",
        "import sys\n",
        "import IPython\n",
        "import Helpers\n",
        "P=Helpers.core.Core()\n",
        "hlp=P.H\n",
        "clear_output()"
      ],
      "execution_count": 0,
      "outputs": []
    },
    {
      "cell_type": "code",
      "metadata": {
        "id": "ZwAVOi1WEPPY",
        "colab_type": "code",
        "colab": {}
      },
      "source": [
        "# get repo\n",
        "%cd /content/\n",
        "hlp.repolist= hlp.repo_collection\n",
        "repos_sorted = hlp.repo_collection.repos_sorted\n",
        "A1=['bxck75/piss-ant-pix2pix']\n",
        "hlp.Me(['inst_reps',A1,'/content/installed_repos',False,True])\n",
        "clear_output()"
      ],
      "execution_count": 0,
      "outputs": []
    },
    {
      "cell_type": "code",
      "metadata": {
        "id": "CS20whuQLlWe",
        "colab_type": "code",
        "colab": {}
      },
      "source": [
        "# get images\n",
        "%cd /content/\n",
        "# images_set_name='insect'\n",
        "# images_set_code='1fbEUcBIvLwjlVFrUiW2g8KtRTvFSsW9D'\n",
        "# images_model_code='1eFR5ZHfp5PzPEnFv_v3xxE9T0tKPJTS4'\n",
        "\n",
        "# https://drive.google.com/open?id=1PUEpLgRfKKDvaMAVtKBVr-Z0ThQvOGWv # images\n",
        "# https://drive.google.com/open?id=1vLmCOaActAAZ0bHdrv0YgP-rCnYHX0O9\n",
        "\n",
        "# images_set_name='apes'\n",
        "# images_set_code='1PUEpLgRfKKDvaMAVtKBVr-Z0ThQvOGWv'\n",
        "# images_model_code='1vLmCOaActAAZ0bHdrv0YgP-rCnYHX0O9'\n",
        "\n",
        "# https://drive.google.com/open?id=1nb8yr9TIJaiB1GFN9S4mD5GfTNvEQpW-\n",
        "images_set_name='garbagepailkids'\n",
        "images_set_code='1nb8yr9TIJaiB1GFN9S4mD5GfTNvEQpW-'\n",
        "images_model_code='1tp8Gm1fMuSQoLEEXQ_C1Dlw1N4wwFxKb'\n",
        "\n",
        "Helpers.GdriveD.GdriveD(images_set_code, '/content/'+images_set_name+'.zip')\n",
        "!unzip /content/{images_set_name}.zip\n",
        "clear_output()"
      ],
      "execution_count": 0,
      "outputs": []
    },
    {
      "cell_type": "code",
      "metadata": {
        "id": "GbSuMG5WFQxH",
        "colab_type": "code",
        "colab": {}
      },
      "source": [
        "%%writefile /content/installed_repos/piss-ant-pix2pix/image_folder_make_set_train_colab_450.sh\n",
        "#!/bin/bash\n",
        "##########################################################################\n",
        "#                                                                        #\n",
        "#\t\t\t\t\t\t\t\t\t #\n",
        "\n",
        "#\n",
        "#\n",
        "##########################################################################\n",
        "# from folder to pix2pix set and train/test\n",
        "# usage :./image_folder_make_set_train.sh <images folder> <epochs to train> <prep/train/test/lucky-triple>\n",
        "# bash image_folder_make_set_train.sh $MYHOME/data/steenmarter 5\n",
        "# it wil make : \n",
        "#  -- <image_folder>_resize (resized pix2pix training set)\n",
        "#  -- <image_folder>_train (training metrics) beside the original folder\n",
        "\n",
        "# index.html in the train folder has the evaluation of the training and test\n",
        "\n",
        "# set root tmp folder\n",
        "root='/content/'\n",
        "input_img_folder=${1}\n",
        "training_epochs=${2}\n",
        "prep=${3} #  True or False wil switch prepping off if this is already done\n",
        "root_tmp_folder='p2p_process_tmp'\n",
        "root_data_folder='/root/Bureaublad/data/'\n",
        "TF_CPP_MIN_LOG_LEVEL='3'  # or any {'0', '1', '2'}'\n",
        "\n",
        "function process {\n",
        "\t#remove old tmp files if any...\n",
        "# \tsudo rm -r ${root}${root_tmp_folder}\n",
        "\t# Resize source images\n",
        "\tpython tools/process.py --input_dir ${input_img_folder} --operation resize --pad --size 450 --output_dir ${root}${root_tmp_folder}/_resized\n",
        "\n",
        "\n",
        "\t# Create images with blank centers\n",
        "\t# python tools/process.py --input_dir ${root}${root_tmp_folder}/_resized --operation blank --output_dir ${root}${root_tmp_folder}/_blank\n",
        "\t# Create images with edges\n",
        "\tsudo mkdir -p ${root}${root_tmp_folder}/_edges\n",
        "\tpython tools/edge.py --input_dir ${root}${root_tmp_folder}/_resized --output_dir ${root}${root_tmp_folder}/_edges\n",
        "\tls ${root}${root_tmp_folder}/_edges\n",
        "\n",
        "\n",
        "\t# Combine resized images with blanked images side by side\n",
        "\t# python tools/process.py --input_dir ${root}${root_tmp_folder}/_resized --b_dir  ${root}${root_tmp_folder}/_blank --operation combine --output_dir  ${root}${root_tmp_folder}/_resized/_combined\n",
        "\t\n",
        "\t# Combine resized images with edge images side by side\n",
        "\tpython tools/process.py --input_dir ${root}${root_tmp_folder}/_resized --b_dir  ${root}${root_tmp_folder}/_edges --operation combine --output_dir  ${root}${root_tmp_folder}/_resized/_combined\n",
        "\t\n",
        "\t# Split into train/val set\n",
        "\tpython tools/split.py --dir ${root}${root_tmp_folder}/_resized/_combined\n",
        "\t# make dir and copy final images\n",
        "\tsudo mkdir -p ${input_img_folder}_resize\n",
        "    sudo mkdir ${input_img_folder}images\n",
        "\tcp -rf ${root}${root_tmp_folder}/_resized/_combined/ ${input_img_folder}images/\n",
        "}\n",
        "\n",
        "function train {\n",
        "\t# Training pix2pix\n",
        "\tx=$1\n",
        "\techo \"[Start training....]\"\n",
        "\t# xterm_sizes=\"55x10+0+${x}\"\n",
        "# \txterm_style=\"-misc-fixed-medium-r-normal--10-*-*-*-*-*-iso8859-15\"\n",
        "# \txterm -fn $xterm_style -geometry $xterm_sizes -hold -e \"tensorboard --port 6001 --logdir=${input_img_folder}_train\" & \n",
        "# \txterm -fn $xterm_style -geometry $xterm_sizes -hold -e \"chromium --no-sandbox http://debian:6001\" &\n",
        "\t# ((x+=185))\n",
        "# \txterm_sizes=\"55x35+0+${x}\"\n",
        "# \txterm -fn $xterm_style -geometry $xterm_sizes -hold -e \"python pix2pix.py --mode train --output_dir ${input_img_folder}_train --max_epochs ${training_epochs} --input_dir ${input_img_folder}_resize/_combined/train --which_direction BtoA\" &\n",
        "    python pix2pix.py --mode train --output_dir ${input_img_folder}_train --max_epochs ${training_epochs} --input_dir ${input_img_folder}_resize/_combined/train --which_direction BtoA\n",
        "\n",
        "}\n",
        "\n",
        "function test {\n",
        "\t#Testing model trained so far\n",
        "\tx=$1\n",
        "\techo \"[Start testing....]\"\n",
        "# \txterm_style=\"-misc-fixed-medium-r-normal--10-*-*-*-*-*-iso8859-15\"\n",
        "# \txterm_sizes=\"55x55+335+${x}\"\n",
        "# \txterm -fn $xterm_style -geometry $xterm_sizes -hold -e \"tensorboard --port 6002 --logdir=${input_img_folder}_train\" & disown\n",
        "# \txterm -fn $xterm_style -geometry $xterm_sizes -hold -e \"chromium --no-sandbox http://debian:6002\" &\n",
        "# \t# ((x+=185))\n",
        "# \txterm_sizes=\"55x55+335+${x}\"\n",
        "# \txterm -fn $xterm_style -geometry $xterm_sizes -hold -e \"python pix2pix.py --mode test --output_dir ${input_img_folder}_test --input_dir ${input_img_folder}_resize/_combined/val --checkpoint ${input_img_folder}_train\" &\n",
        "    python pix2pix.py --mode test --output_dir ${input_img_folder}_test --input_dir ${input_img_folder}_resize/_combined/val --checkpoint ${input_img_folder}_train\n",
        "\n",
        "}\n",
        "\n",
        "function show_t_t {\n",
        "\t# Show Training summary html\n",
        "\txterm -geometry \"5x5x5x5\" -e \"chromium --no-sandbox ${input_img_folder}_train/index.html\" & disown \n",
        "\t# Show Testing summary html\n",
        "\txterm -geometry \"5x5x5x5\" -e \"chromium --no-sandbox ${input_img_folder}_test/index.html\" & disown\n",
        "}\n",
        "\n",
        "function clean {\n",
        "\t#remove tmp files\n",
        "\tsudo rm -r ${root}${root_tmp_folder}\n",
        "}\n",
        "\n",
        "\n",
        "# Workflow sequence \n",
        "if [[ $prep == 'prep' ]] || [[ $prep == 'lucky-triple' ]]; then\n",
        "\tprocess\n",
        "fi\n",
        "wait\n",
        "if [[ $prep == 'train' ]] || [[ $prep == 'lucky-triple' ]]; then\n",
        "\ttrain 1000\n",
        "fi\n",
        "wait\n",
        "if [[ $prep == 'test' ]] || [[ $prep == 'lucky-triple' ]]; then\n",
        "\ttest 1000\n",
        "fi\n",
        "wait\n",
        "# clean\n"
      ],
      "execution_count": 0,
      "outputs": []
    },
    {
      "cell_type": "code",
      "metadata": {
        "id": "eW2829u8K3oC",
        "colab_type": "code",
        "colab": {}
      },
      "source": [
        "# make dataset\n",
        "%cd /content/installed_repos/piss-ant-pix2pix\n",
        "!bash image_folder_make_set_train_colab_450.sh /content/{images_set_name} 1 prep\n",
        "clear_output()"
      ],
      "execution_count": 0,
      "outputs": []
    },
    {
      "cell_type": "code",
      "metadata": {
        "id": "Vky0_HEvLT3p",
        "colab_type": "code",
        "colab": {}
      },
      "source": [
        "# ''' \n",
        "#     startup loop  1x\n",
        "#     # 1 get metric from gdrive\n",
        "#     2 train 5 epochs\n",
        "#     3 dump metrics to gdrive with the same file id \n",
        "# '''\n",
        "# for i in range(1):\n",
        "#     # fetch metrics\n",
        "#     %cd /content/\n",
        "#     # Helpers.GdriveD.GdriveD(images_model_code, '/content/'+images_set_name+'_model_in.zip')\n",
        "#     # !unzip /content/{images_set_name}_model_in.zip -d metrics/\n",
        "#     # !rm -r /content/metrics/options.json\n",
        "#     # train epochs\n",
        "#     %cd /content/installed_repos/piss-ant-pix2pix\n",
        "#     !python pix2pix.py --output_dir /content/metrics --progress_freq 100 --save_freq 150 --summary_freq 100 --display_freq 100 --max_epochs 1 --mode train --input_dir /content/{images_set_name}images/_combined/train --which_direction 'BtoA'\n",
        "#     # dump metrics\n",
        "#     %cd /content/\n",
        "#     Helpers.Core()\n",
        "#     obj=Helpers.core.Core()\n",
        "#     folder_of_model='metrics'\n",
        "#     result=obj.H.zip(images_set_name+'model',obj.Gdrive_root+'/models',folder_of_model).ZipUp\n",
        "#     zip_hash=result.split('(id) ')[1]\n",
        "#     print(zip_hash)\n",
        "#     # delete old crap\n",
        "#     !rm -r /content/metrics\n",
        "#     !rm -r /content/{images_set_name}model.zip"
      ],
      "execution_count": 0,
      "outputs": []
    },
    {
      "cell_type": "markdown",
      "metadata": {
        "id": "w9whUNUbJxLw",
        "colab_type": "text"
      },
      "source": [
        "start values\n",
        "progress  epoch 1  step 10  image/sec 0.7  remaining 122m\n",
        "dloss_GAN 0.11989411\n",
        "gloss_GAN 0.060013566\n",
        "gloss_L1 0.043864187"
      ]
    },
    {
      "cell_type": "code",
      "metadata": {
        "id": "D_YjfSe8JOfy",
        "colab_type": "code",
        "colab": {}
      },
      "source": [
        "''' \n",
        "    loop  10x\n",
        "    1 get metric from gdrive\n",
        "    2 train 5 epochs\n",
        "    3 dump metrics to gdrive with the same file id \n",
        "'''\n",
        "for i in range(10):\n",
        "    # fetch metrics\n",
        "    %cd /content/\n",
        "    Helpers.GdriveD.GdriveD(images_model_code, '/content/'+images_set_name+'_model_in.zip')\n",
        "    !unzip /content/{images_set_name}_model_in.zip -d metrics/\n",
        "    !rm -r /content/metrics/options.json\n",
        "    # train epochs\n",
        "    %cd /content/installed_repos/piss-ant-pix2pix\n",
        "    !python pix2pix.py --checkpoint /content/metrics --output_dir /content/metrics --progress_freq 10 --save_freq 50 --summary_freq 50 --display_freq 200 --max_epochs 5 --mode train --input_dir /content/{images_set_name}images/_combined/train --which_direction 'BtoA'\n",
        "\n",
        "    %cd /content/\n",
        "    '''clean old models,test images,logs etc befor zipping'''\n",
        "    # delete unwanted\n",
        "    !rm -r /content/metrics/images    \n",
        "    !rm -r /content/metrics/index.html\n",
        "    # clean up models\n",
        "    models_list=hlp.Me(['globx','/content/metrics','model-*'])\n",
        "    models_list = sorted(models_list)\n",
        "    print(models_list)\n",
        "    n=3 #pop the last 3 items off the list (latest model)\n",
        "    del models_list[-n:]\n",
        "    # delete the files left in the list\n",
        "    for m_file in models_list:\n",
        "        print('deleting : ' + m_file)\n",
        "        !rm -r {m_file}\n",
        "    # clean up events\n",
        "    events_list=hlp.Me(['globx','/content/metrics','events*'])\n",
        "    events_list = sorted(events_list)\n",
        "    print(events_list)\n",
        "    n=1 #pop the last item off the list (latest event) \n",
        "    del events_list[-n:]\n",
        "    # delete the files left in the list\n",
        "    for e_file in events_list:\n",
        "        print('deleting : ' + e_file)\n",
        "        !rm -r {e_file}\n",
        "\n",
        "    '''zip metrrics to gdrive'''\n",
        "    Helpers.Core()\n",
        "    obj=Helpers.core.Core()\n",
        "    folder_of_model='metrics'\n",
        "    result=obj.H.zip(images_set_name+'model',obj.Gdrive_root+'/models',folder_of_model).ZipUp\n",
        "    zip_hash=result.split('(id) ')[1]\n",
        "    print(zip_hash)\n",
        "    # delete old crap\n",
        "    !rm -r /content/metrics\n",
        "    !rm -r /content/{images_set_name}model.zip"
      ],
      "execution_count": 0,
      "outputs": []
    },
    {
      "cell_type": "code",
      "metadata": {
        "id": "ypa7AzDYG-Ca",
        "colab_type": "code",
        "colab": {}
      },
      "source": [
        "# # rewrite checkpointfile\n",
        "# !echo 'model_checkpoint_path: \"/content/metrics/model-21880\"' > /content/metrics/checkpoint\n",
        "# !echo 'all_model_checkpoint_paths: \"/content/metrics/model-21880\"' >> /content/metrics/checkpoint"
      ],
      "execution_count": 0,
      "outputs": []
    },
    {
      "cell_type": "code",
      "metadata": {
        "id": "xPvviEG3EcsD",
        "colab_type": "code",
        "colab": {}
      },
      "source": [
        "# download/unzip metrics \n",
        "# Get pretrained metrics\n",
        "%cd /content/\n",
        "Helpers.GdriveD.GdriveD(images_model_code, '/content/'+images_set_name+'_model_in.zip')\n",
        "!unzip /content/{images_set_name}_model_in.zip -d metrics/"
      ],
      "execution_count": 0,
      "outputs": []
    },
    {
      "cell_type": "code",
      "metadata": {
        "id": "-SdaTrm4g_KU",
        "colab_type": "code",
        "colab": {}
      },
      "source": [
        "# # remove old crap before rezipping\n",
        "# !rm -r /content/metrics/images\n",
        "# !rm -r /content/metrics/events.out.tfevents*\n",
        "# !rm -r /content/metrics/index.html\n",
        "hlp.Me(['globx','/content/metrics','model-*'])"
      ],
      "execution_count": 0,
      "outputs": []
    },
    {
      "cell_type": "code",
      "metadata": {
        "colab_type": "code",
        "id": "gQn7oz9xVXKW",
        "colab": {}
      },
      "source": [
        "# # rezip\n",
        "# %cd /content/\n",
        "# Helpers.Core()\n",
        "# obj=Helpers.core.Core()\n",
        "# folder_of_model='metrics'\n",
        "# print(obj.Gdrive_root+'/models')\n",
        "# result=obj.H.zip(images_set_name+'model',obj.Gdrive_root+'/models',folder_of_model).ZipUp\n",
        "# # print(result)\n",
        "# zip_hash=result.split('(id) ')[1]\n",
        "# print(zip_hash)"
      ],
      "execution_count": 0,
      "outputs": []
    },
    {
      "cell_type": "code",
      "metadata": {
        "id": "CoCVVnRdKqTY",
        "colab_type": "code",
        "colab": {}
      },
      "source": [
        "# test the current checkpoint\n",
        "# get metrics\n",
        "%cd /content/\n",
        "Helpers.GdriveD.GdriveD(images_model_code, '/content/'+images_set_name+'_model_in.zip')\n",
        "!unzip /content/{images_set_name}_model_in.zip -d metrics/\n",
        "# test \n",
        "%cd /content/installed_repos/piss-ant-pix2pix\n",
        "!python pix2pix.py --mode test --output_dir /content/{images_set_name}_pretrained/test --input_dir /content/{images_set_name}images/_combined/val --max_steps 100 --which_direction \"BtoA\" --seed 0 --checkpoint /content/metrics\n",
        "# export\n",
        "!python pix2pix.py --mode export --output_dir /content/{images_set_name}_pretrained/exp --checkpoint /content/metrics\n"
      ],
      "execution_count": 0,
      "outputs": []
    },
    {
      "cell_type": "code",
      "metadata": {
        "id": "zHlCEqmZWDos",
        "colab_type": "code",
        "colab": {}
      },
      "source": [
        "\n",
        "# rezip clean export\n",
        "%cd /content/\n",
        "Helpers.Core()\n",
        "obj=Helpers.core.Core()\n",
        "folder_of_model=images_set_name+'_pretrained/exp'\n",
        "print(obj.Gdrive_root+'/models')\n",
        "result=obj.H.zip(images_set_name+'model_exp',obj.Gdrive_root+'/models',folder_of_model).ZipUp\n",
        "# print(result)\n",
        "zip_hash=result.split('(id) ')[1]\n",
        "print(zip_hash)"
      ],
      "execution_count": 0,
      "outputs": []
    },
    {
      "cell_type": "code",
      "metadata": {
        "id": "HnTRZBh7W2Hs",
        "colab_type": "code",
        "colab": {}
      },
      "source": [
        "# test exported path\n",
        "%cd /content/installed_repos/piss-ant-pix2pix\n",
        "!python pix2pix.py --mode test --output_dir /content/{images_set_name}_pretrained/exp_test --input_dir /content/{images_set_name}images/_combined/val --checkpoint /content/garbagepailkids_pretrained_test --max_steps 100 --which_direction \"BtoA\" --seed 0 --checkpoint /content/metrics\n"
      ],
      "execution_count": 0,
      "outputs": []
    }
  ]
}