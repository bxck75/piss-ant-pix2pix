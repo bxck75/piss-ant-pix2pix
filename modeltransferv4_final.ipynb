{
  "nbformat": 4,
  "nbformat_minor": 0,
  "metadata": {
    "colab": {
      "name": "modeltransferv4-final",
      "provenance": [],
      "private_outputs": true,
      "collapsed_sections": [],
      "include_colab_link": true
    },
    "kernelspec": {
      "name": "python3",
      "display_name": "Python 3"
    },
    "accelerator": "GPU"
  },
  "cells": [
    {
      "cell_type": "markdown",
      "metadata": {
        "id": "view-in-github",
        "colab_type": "text"
      },
      "source": [
        "<a href=\"https://colab.research.google.com/github/bxck75/piss-ant-pix2pix/blob/master/modeltransferv4_final.ipynb\" target=\"_parent\"><img src=\"https://colab.research.google.com/assets/colab-badge.svg\" alt=\"Open In Colab\"/></a>"
      ]
    },
    {
      "cell_type": "code",
      "metadata": {
        "id": "mcGsrSyVEVLc",
        "colab_type": "code",
        "colab": {},
        "cellView": "form"
      },
      "source": [
        "#@title  Helpers Loader { vertical-output: true, output-height: 10 }\n",
        "# remove defaults\n",
        "import os\n",
        "os.system('rm -r sample_data')\n",
        "# Clone the repo\n",
        "os.system('git clone https://github.com/bxck75/Python_Helpers.git')\n",
        "\n",
        "# Change dir\n",
        "os.chdir('/content/Python_Helpers')\n",
        "# install\n",
        "os.system('python setup.py install')\n",
        "\n",
        "from IPython.display import clear_output as cle\n",
        "from pprint import pprint as print\n",
        "from PIL import Image\n",
        "import main\n",
        "import os\n",
        "import sys\n",
        "import IPython\n",
        "import Helpers\n",
        "# get pix2pix repo\n",
        "Helpers_Core=Helpers.Core()\n",
        "hlp=Helpers_Core.H\n",
        "os.chdir('/content/')\n",
        "hlp.repolist= hlp.repo_collection\n",
        "repos_sorted = hlp.repo_collection.repos_sorted\n",
        "A1=['bxck75/piss-ant-pix2pix']\n",
        "hlp.Me(['inst_reps',A1,'/content/installed_repos',False,True])\n",
        "\n",
        "''' zipper'''\n",
        "Zipper = Helpers_Core.load_zipper()\n",
        "Gdrive_download = Helpers_Core.Gdownload.GdriveD\n",
        "\n",
        "''' image crawler '''\n",
        "ImgCrawler = Helpers.core.GoImgScrape.GoogleImageCrawler()\n",
        "\n",
        "cle()"
      ],
      "execution_count": 0,
      "outputs": []
    },
    {
      "cell_type": "code",
      "metadata": {
        "id": "ajbE7r4wzZ69",
        "colab_type": "code",
        "colab": {},
        "cellView": "form"
      },
      "source": [
        "#@title print help functions\n",
        "# Helpers.core.Core()\n",
        "# Zipper = Helpers_Core.load_zipper()\n",
        "# Zipper.ZipUp(zipname, foldername, target_dir)\n",
        "\n",
        "# print(dir(Helpers_Core.Gdownload.GdriveD))\n",
        "\n",
        "# print(help(Zipper))\n",
        "# Helpers.Core.cleanup_files(\n",
        "            # keep=12,\n",
        "            # cleanup_path='/content/test',\n",
        "            # search_pattern='*.*g',\n",
        "            # show_keepers=True\n",
        "            # )\n",
        "            \n",
        "from pprint import pprint as print\n",
        "from google.colab import drive\n",
        "drive.mount('/content/drive')\n",
        "# clean up models\n",
        "models_list_on_drive=hlp.Me(['globx','/content/drive/My Drive','*model.zip'])\n",
        "models_list_on_drive = sorted(models_list_on_drive)\n",
        "print(models_list_on_drive)\n",
        "\n",
        "# clean up models\n",
        "models_list_on_drive=hlp.Me(['globx','/content/drive/My Drive/raw_image_packs','*.zip'])\n",
        "models_list_on_drive = sorted(models_list_on_drive)\n",
        "print(models_list_on_drive)\n"
      ],
      "execution_count": 0,
      "outputs": []
    },
    {
      "cell_type": "code",
      "metadata": {
        "id": "143InicPDFgX",
        "colab_type": "code",
        "colab": {},
        "cellView": "form"
      },
      "source": [
        "#@title  { vertical-output: true, output-height: 10 }\n",
        "search_input = 'ape+face'                                       #@param {type : \"string\"}\n",
        "max_num = 5                                                   #@param {type:\"slider\", min:5, max:1000, step:5}\n",
        "ext = 'png'                                                     #@param [\"png\", \"jpg\"] {type:\"string\"}\n",
        "mode = 'Scrape new set'                           #@param ['Scrape new set','Existing images set on drive']\n",
        "images_set_code = '1AjqcISSwDdQTrtUp53to83Kyrxb3FOc1'           #@param {type : \"string\"}\n",
        "model_mode = 'Existing model on drive'                          #@param ['Existing model on drive','New model']\n",
        "images_model_code = '1vC4VMLRgVXt818jaE5seX5v3Pj5Kona-'         #@param {type : \"string\"}\n",
        "images_set_name = search_input"
      ],
      "execution_count": 0,
      "outputs": []
    },
    {
      "cell_type": "code",
      "metadata": {
        "id": "9mmUj0m2LMgk",
        "colab_type": "code",
        "cellView": "form",
        "colab": {}
      },
      "source": [
        "#@title Scrape new set  { vertical-output: true, form-width: \"20%\" }\n",
        "if mode == 'Scrape new set':\n",
        "    os.chdir('/content')\n",
        "\n",
        "    '''Crawl'''\n",
        "    img_crawler = Helpers.core.GoImgScrape.GoogleImageCrawler()\n",
        "    search = search_input + ' ext:' + ext\n",
        "    img_crawler.crawl(search,max_num=max_num)\n",
        "\n",
        "    ''' prep images '''\n",
        "    images_set_name= search.split(' ')[0]\n",
        "    !mkdir -p /content/{images_set_name}\n",
        "    !cp /content/images/* /content/{images_set_name}/\n",
        "\n",
        "    Img_list=hlp.Me(['globx','/content/'+images_set_name,'*.*g'])\n",
        "    Helpers_Core.check_img_list(Img_list, ext)\n",
        "\n",
        "    ''' zip new pack to gdrive '''\n",
        "    %cd /content/\n",
        "    folder_of_model='/content/'+images_set_name+'/'\n",
        "    result=Zipper(images_set_name,Helpers_Core.Gdrive_root,folder_of_model).ZipUp\n",
        "    zip_hash=result.split('(id) ')[1]\n",
        "\n",
        "    '''remove the image folder'''\n",
        "    # !rm -r /content/{images_set_name}.zip\n",
        "    images_set_code=zip_hash\n",
        "    print(images_set_name)\n",
        "    print(images_set_code)\n",
        "\n",
        "    '''Download the image folder'''\n",
        "    # Helpers.GdriveD(images_set_code, '/content/'+images_set_name+'_in.zip').GdriveD\n",
        "    !unzip /content/{images_set_name}.zip -d /content/{images_set_name}\n",
        "\n",
        "    '''make the set'''\n",
        "    %cd /content/installed_repos/piss-ant-pix2pix\n",
        "    !bash image_folder_make_set_train_colab.sh /content/{images_set_name} 1 prep\n",
        "\n",
        "cle()"
      ],
      "execution_count": 0,
      "outputs": []
    },
    {
      "cell_type": "code",
      "metadata": {
        "id": "7YKoU2lx15CN",
        "colab_type": "code",
        "colab": {}
      },
      "source": [
        "def hallo():\n",
        "    "
      ],
      "execution_count": 0,
      "outputs": []
    },
    {
      "cell_type": "code",
      "metadata": {
        "id": "EtGxYlnS-62F",
        "colab_type": "code",
        "colab": {}
      },
      "source": [
        "# gdrive=Helpers_Core.Gdrive_root\n",
        "# print(gdrive)\n",
        "# result=Zipper(images_set_name,gdrive,folder_of_model).ZipUp\n",
        "# print(result)"
      ],
      "execution_count": 0,
      "outputs": []
    },
    {
      "cell_type": "code",
      "metadata": {
        "id": "rVZ0XkwsBMXR",
        "colab_type": "code",
        "colab": {},
        "cellView": "form"
      },
      "source": [
        "#@title Use existing images set { vertical-output: true, form-width: \"20%\" }\n",
        "if mode == 'Existing images set on drive':\n",
        "\n",
        "    '''Download the image folder'''\n",
        "    Gdrive_download(images_set_code, '/content/'+images_set_name+'.zip')\n",
        "    !unzip /content/{images_set_name}.zip -d /content/{images_set_name}\n",
        "\n",
        "    ''' prep images '''\n",
        "    images_set_name= search_input\n",
        "    !mkdir -p /content/{images_set_name}\n",
        "    !cp /content/images/* /content/{images_set_name}/\n",
        "\n",
        "    Img_list=hlp.Me(['globx','/content/'+images_set_name,'*.*g'])\n",
        "    Helpers_Core.check_img_list(Img_list, ext)\n",
        "\n",
        "    '''make the set'''\n",
        "    %cd /content/installed_repos/piss-ant-pix2pix\n",
        "    !bash image_folder_make_set_train_colab.sh /content/{images_set_name} 1 prep\n",
        "cle()"
      ],
      "execution_count": 0,
      "outputs": []
    },
    {
      "cell_type": "code",
      "metadata": {
        "id": "fXLEWM0dAXRG",
        "colab_type": "code",
        "colab": {}
      },
      "source": [
        "# print(images_set_name)"
      ],
      "execution_count": 0,
      "outputs": []
    },
    {
      "cell_type": "code",
      "metadata": {
        "id": "ow5i1XIBA4W4",
        "colab_type": "code",
        "colab": {}
      },
      "source": [
        "'''hand make the set'''\n",
        "%cd /content/installed_repos/piss-ant-pix2pix\n",
        "!bash image_folder_make_set_train_colab.sh /content/{images_set_name} 1 prep"
      ],
      "execution_count": 0,
      "outputs": []
    },
    {
      "cell_type": "code",
      "metadata": {
        "id": "5pWD3pqhPSYp",
        "colab_type": "code",
        "colab": {}
      },
      "source": [
        "# remove\n",
        "!rm  -r /content/ape+faceimages\n",
        "!rm -r /content/p2p_process_tmp\n",
        "# !rm -r /content/insect_zoomed_resize\n",
        "# !rm -r /content/insect_zoomed\n",
        "# !rm -r /content/images\n",
        "# !rm /content/insect_zoomed.zip"
      ],
      "execution_count": 0,
      "outputs": []
    },
    {
      "cell_type": "code",
      "metadata": {
        "id": "0G9MBIWCH_Ph",
        "colab_type": "code",
        "colab": {},
        "cellView": "form"
      },
      "source": [
        "#@title manual scraper (scrapes to scraped_images folder) { vertical-output: true, output-height: 10 }\n",
        "# man_search_input = 'orc'    #@param {type : \"string\"}\n",
        "# man_max_num = 1             #@param {type:\"slider\", min:1, max:1000, step:5}\n",
        "# man_ext = 'png'             #@param [\"png\", \"jpg\"] {type:\"string\"}\n",
        "# os.system('mkdir -p /content/scraped_images/' + man_search_input)\n",
        "# os.chdir('/content/scraped_images/' + man_search_dir)\n",
        "# search = man_search_input + ' man_ext:' + man_ext\n",
        "# ImgCrawler.crawl(search, max_num=man_max_num)\n",
        "# '''clean up images'''\n",
        "# Img_list=hlp.Me(['globx','/content/scraped_images/' + man_search_input ,'*.*g'])\n",
        "# Helpers.Core.check_img_list(Img_list, man_ext)\n",
        "# os.chdir('/content/')"
      ],
      "execution_count": 0,
      "outputs": []
    },
    {
      "cell_type": "code",
      "metadata": {
        "id": "CS20whuQLlWe",
        "colab_type": "code",
        "colab": {},
        "cellView": "form"
      },
      "source": [
        "#@title log of old image packs \n",
        "# get images\n",
        "# %cd /content/\n",
        "\n",
        "# images_set_name='insect'\n",
        "# images_set_code='1fbEUcBIvLwjlVFrUiW2g8KtRTvFSsW9D'\n",
        "# images_model_code='1eFR5ZHfp5PzPEnFv_v3xxE9T0tKPJTS4'\n",
        "\n",
        "# images_set_name='apes'\n",
        "# images_set_code='1PUEpLgRfKKDvaMAVtKBVr-Z0ThQvOGWv'\n",
        "# images_model_code='1vLmCOaActAAZ0bHdrv0YgP-rCnYHX0O9'\n",
        "\n",
        "# images_set_name='garbagepailkids'\n",
        "# images_set_code='1nb8yr9TIJaiB1GFN9S4mD5GfTNvEQpW-'\n",
        "# images_model_code='1tp8Gm1fMuSQoLEEXQ_C1Dlw1N4wwFxKb'\n",
        "# %cd /content/\n",
        "# Helpers.GdriveD.GdriveD(images_set_code, '/content/'+images_set_name+'.zip')\n",
        "# !unzip /content/{images_set_name}.zip \n",
        "# %cd /content/installed_repos/piss-ant-pix2pix\n",
        "# !bash image_folder_make_set_train_colab.sh /content/{images_set_name} 1 prep\n",
        "# cle()"
      ],
      "execution_count": 0,
      "outputs": []
    },
    {
      "cell_type": "code",
      "metadata": {
        "id": "XNKG7MZY1LCO",
        "colab_type": "code",
        "colab": {},
        "cellView": "form"
      },
      "source": [
        "#@title load tensorboard plugin\n",
        "def loadTboard():\n",
        "    '''load tensorboard'''\n",
        "    import datetime, os ,tensorboard\n",
        "    # install tensorboard\n",
        "    #     hlp.Me(['cml','pip install -q tensorflow'])\n",
        "    # Load the TensorBoard notebook extension\n",
        "    try:\n",
        "        # %load_ext tensorboard\n",
        "        %load_ext tensorboard\n",
        "    except:\n",
        "        %reload_ext tensorboard\n",
        "loadTboard()"
      ],
      "execution_count": 0,
      "outputs": []
    },
    {
      "cell_type": "code",
      "metadata": {
        "id": "Vky0_HEvLT3p",
        "colab_type": "code",
        "colab": {},
        "cellView": "form"
      },
      "source": [
        "#@title New model\n",
        "if model_mode == 'New model':\n",
        "    import sys\n",
        "    import os\n",
        "    import dlib\n",
        "    import glob\n",
        "    %matplotlib inline\n",
        "    from matplotlib import pyplot as plt\n",
        "    import cv2\n",
        "    ''' \n",
        "        loop  1x\n",
        "        1 get metric from gdrive\n",
        "        2 train 5 epochs\n",
        "        3 dump metrics to gdrive with the same file id \n",
        "    '''\n",
        "    %tensorboard --logdir /content/metrics\n",
        "    for i in range(3):\n",
        "\n",
        "        ''' fetch metrics'''\n",
        "        os.chdir('/content/')\n",
        "        if i > 0:\n",
        "            Gdrive_download(images_model_code, '/content/'+images_set_name+'_model_in.zip')\n",
        "            !unzip /content/{images_set_name}_model_in.zip -d metrics/\n",
        "            metrics='--checkpoint /content/metrics '\n",
        "        else:\n",
        "            metrics=''\n",
        "\n",
        "        ''' train epochs '''\n",
        "        os.chdir('/content/installed_repos/piss-ant-pix2pix')\n",
        "        !python pix2pix.py {metrics} --output_dir /content/metrics --progress_freq 25 --save_freq 50 --summary_freq 50 --display_freq 10 --max_epochs 1 --mode train --input_dir /content/{images_set_name}images/_combined/train --which_direction 'BtoA'\n",
        "\n",
        "        os.chdir('/content/')\n",
        "\n",
        "        '''clean old models,test images,logs etc befor zipping'''\n",
        "        # delete index.html\n",
        "        !rm -r /content/metrics/index.html\n",
        "        \n",
        "        # Cleanup images with Helpers class\n",
        "        Helpers_Core.cleanup_files(12,'/content/metrics/images','*.*g',True)\n",
        "        try:\n",
        "            Helpers.Core.cleanup_files(6,'/content/metrics','model-*',False)\n",
        "            # Helpers.Core.cleanup_files(3,'/content/metrics','events*',False)\n",
        "        except:\n",
        "            print('models and events not cleaned!!')\n",
        "        \n",
        "        # clean up models\n",
        "        models_list=hlp.Me(['globx','/content/metrics','model-*'])\n",
        "        models_list = sorted(models_list)\n",
        "        print(models_list)\n",
        "        n=6 #pop the last 3 items off the list (latest model)\n",
        "        del models_list[-n:]\n",
        "        # delete the files left in the list\n",
        "        for m_file in models_list:\n",
        "            print('deleting : ' + m_file)\n",
        "            !echo rm -r {m_file}\n",
        "\n",
        "        # clean up events\n",
        "        events_list=hlp.Me(['globx','/content/metrics','events*'])\n",
        "        events_list = sorted(events_list)\n",
        "        print(events_list)\n",
        "        n=3 #pop the last item off the list (latest event) \n",
        "        del events_list[-n:]\n",
        "        # delete the files left in the list\n",
        "        for e_file in events_list:\n",
        "            print('deleting : ' + e_file)\n",
        "            !echo rm -r {e_file}\n",
        "\n",
        "        # zip metrics up to gdrive\n",
        "        os.chdir('/content')\n",
        "        print(\"Zipping metrics to Drive.....\")\n",
        "        folder_of_model='metrics'\n",
        "        result = Zipper(images_set_name+'model',Helpers_Core.Gdrive_root+'/models',folder_of_model).ZipUp\n",
        "        \n",
        "        # set model hash from results\n",
        "        images_model_code =result.split('(id) ')[1]\n",
        "        print(images_model_code)\n",
        "        \n",
        "        # delete old metrics before unpacking new in the beginning of the loop\n",
        "        !rm -r /content/metrics\n",
        "        !rm -r /content/{images_set_name}model.zip\n",
        "        model_mode = 'Existing model on drive'\n"
      ],
      "execution_count": 0,
      "outputs": []
    },
    {
      "cell_type": "code",
      "metadata": {
        "id": "wIllcu8ALXBH",
        "colab_type": "code",
        "colab": {}
      },
      "source": [
        "# !rm -r /content/metric"
      ],
      "execution_count": 0,
      "outputs": []
    },
    {
      "cell_type": "code",
      "metadata": {
        "id": "dC_iRwbDYxy_",
        "colab_type": "code",
        "colab": {}
      },
      "source": [
        "    # Cleanup images with Helpers class\n",
        "    # Helpers_Core.cleanup_files(keep=12,cleanup_path='/content/metrics/images',search_pattern='*.*g',show_keepers=True)"
      ],
      "execution_count": 0,
      "outputs": []
    },
    {
      "cell_type": "code",
      "metadata": {
        "id": "N-Exj60zzKXe",
        "colab_type": "code",
        "colab": {},
        "cellView": "form"
      },
      "source": [
        "#@title show codes\n",
        "# # inca https://drive.google.com/open?id=12rzkCsR1j995cK8XmTUAG7eEq3ECj4-r\n",
        "# images_model_code = '1b3QLnkCWxxnXpsKqS2x9TrMhJvy5PqUi'\n",
        "# print(images_model_code)\n",
        "# !rm -r /content/metrics\n",
        "\n",
        "# images_set_name = 'beard'\n",
        "# images_set_code = '11rdZuIRe70FejfVGFPSTsHxREGU9X6an'\n",
        "# images_model_code = '1MQ-9yeZL9PCFOGN9VQ3ube4yassdgRfr'\n",
        "\n",
        "print('images_set_name = '+images_set_name)\n",
        "print('images_set_hash = '+images_set_code)\n",
        "print('images_model_code = '+images_model_code)"
      ],
      "execution_count": 0,
      "outputs": []
    },
    {
      "cell_type": "code",
      "metadata": {
        "id": "-1Sh_xZj-9qB",
        "colab_type": "code",
        "colab": {}
      },
      "source": [
        "# '''Download the image folder'''\n",
        "# Gdrive_download(images_set_code, '/content/'+images_set_name+'.zip')\n",
        "# !unzip /content/{images_set_name}.zip -d /content/{images_set_name}\n",
        "\n",
        "# '''make the set'''\n",
        "# %cd /content/installed_repos/piss-ant-pix2pix\n",
        "# !bash image_folder_make_set_train_colab.sh /content/{images_set_name} 1 prep\n"
      ],
      "execution_count": 0,
      "outputs": []
    },
    {
      "cell_type": "code",
      "metadata": {
        "id": "D_YjfSe8JOfy",
        "colab_type": "code",
        "colab": {},
        "cellView": "form"
      },
      "source": [
        "#@title Use existing model  { vertical-output: true, form-width: \"20%\" }\n",
        "if model_mode == 'Existing model on drive':\n",
        "    import sys\n",
        "    import os\n",
        "    import dlib\n",
        "    import glob\n",
        "    %matplotlib inline\n",
        "    from matplotlib import pyplot as plt\n",
        "    import cv2\n",
        "    ''' \n",
        "        loop  1x\n",
        "        1 get metric from gdrive\n",
        "        2 train 5 epochs\n",
        "        3 dump metrics to gdrive with the same file id \n",
        "    '''\n",
        "    %tensorboard --logdir /content/metrics\n",
        "    for i in range(1):\n",
        "\n",
        "        ''' fetch metrics'''\n",
        "        os.chdir('/content/')\n",
        "        print(\"Fetching metrics from Drive.....\")\n",
        "        Gdrive_download(images_model_code, '/content/'+images_set_name+'_model_in.zip')\n",
        "        !unzip /content/{images_set_name}_model_in.zip -d metrics/\n",
        "        metrics='--checkpoint /content/metrics '\n",
        "\n",
        "        ''' train epochs '''\n",
        "        os.chdir('/content/installed_repos/piss-ant-pix2pix')\n",
        "        print(\"running training....\")\n",
        "        os.system('python pix2pix.py '+metrics+' --output_dir /content/metrics --progress_freq 25 --save_freq 50 --summary_freq 50 --display_freq 50 --max_epochs 3 --mode train --input_dir /content/'+images_set_name+'images/_combined/train --which_direction \"BtoA\"')\n",
        "\n",
        "        os.chdir('/content/')\n",
        "        '''clean old models,test images,logs etc befor zipping'''\n",
        "        \n",
        "        # delete unwanted\n",
        "        os.system('rm -r /content/metrics/index.html')\n",
        "        \n",
        "        # Cleanup images with Helpers class\n",
        "        Helpers_Core.cleanup_files(12,'/content/metrics/images','*.*g',True)\n",
        "        try:\n",
        "            Helpers.Core.cleanup_files(6,'/content/metrics','model-*',False)\n",
        "            Helpers.Core.cleanup_files(3,'/content/metrics','events*',False)\n",
        "        except:\n",
        "            print('models and events not cleaned!!')\n",
        "        \n",
        "\n",
        "        # clean up models\n",
        "        models_list=hlp.Me(['globx','/content/metrics','model-*'])\n",
        "        models_list.sort()\n",
        "        print(models_list)\n",
        "        n=6 #pop the last 3 items off the list (latest model)\n",
        "        del models_list[-n:]\n",
        "        # delete the files left in the list\n",
        "        for m_file in models_list:\n",
        "            print('deleting : ' + m_file)\n",
        "            # os.remove(m_file)\n",
        "\n",
        "        # clean up events\n",
        "        events_list=hlp.Me(['globx','/content/metrics','events*'])\n",
        "        events_list.sort()\n",
        "        print(events_list)\n",
        "        n=3 #pop the last item off the list (latest event) \n",
        "        del events_list[-n:]\n",
        "        # delete the files left in the list\n",
        "        for e_file in events_list:\n",
        "            print('deleting : ' + e_file)\n",
        "            # os.remove(e_file)\n",
        "\n",
        "        ''' zip metrics up to gdrive '''\n",
        "        os.chdir('/content')\n",
        "        print(\"Zipping metrics to Drive.....\")\n",
        "        folder_of_model='metrics'\n",
        "        result = Zipper(images_set_name+'model',Helpers_Core.Gdrive_root+'/models',folder_of_model).ZipUp\n",
        "        \n",
        "        # set model hash from results\n",
        "        images_model_code =result.split('(id) ')[1]\n",
        "        print(images_model_code)\n",
        "        \n",
        "        # delete old metrics before unpacking new in the beginning of the loop\n",
        "        os.system('rm -r /content/metrics')\n",
        "        os.system('rm -r /content/'+images_set_name+'model.zip')\n"
      ],
      "execution_count": 0,
      "outputs": []
    },
    {
      "cell_type": "code",
      "metadata": {
        "id": "lOKY5JlCHPR6",
        "colab_type": "code",
        "colab": {}
      },
      "source": [
        "# from pprint import pprint as print\n",
        "# from google.colab import drive\n",
        "# drive.mount('/content/drive')\n",
        "# # clean up models\n",
        "# models_list_on_drive=hlp.Me(['globx','/content/drive/My Drive','*model.zip'])\n",
        "# models_list_on_drive = sorted(models_list_on_drive)\n",
        "# print(models_list_on_drive)\n",
        "\n",
        "# # clean up models\n",
        "# models_list_on_drive=hlp.Me(['globx','/content/drive/My Drive/raw_image_packs','*.zip'])\n",
        "# models_list_on_drive = sorted(models_list_on_drive)\n",
        "# print(models_list_on_drive)"
      ],
      "execution_count": 0,
      "outputs": []
    },
    {
      "cell_type": "code",
      "metadata": {
        "id": "IoAUiribw0-U",
        "colab_type": "code",
        "colab": {}
      },
      "source": [
        "# !rm -r /content/metrics"
      ],
      "execution_count": 0,
      "outputs": []
    },
    {
      "cell_type": "code",
      "metadata": {
        "id": "ypa7AzDYG-Ca",
        "colab_type": "code",
        "colab": {}
      },
      "source": [
        "# # rewrite checkpointfile\n",
        "# !echo 'model_checkpoint_path: \"/content/metrics/model-21880\"' > /content/metrics/checkpoint\n",
        "# !echo 'all_model_checkpoint_paths: \"/content/metrics/model-21880\"' >> /content/metrics/checkpoint"
      ],
      "execution_count": 0,
      "outputs": []
    },
    {
      "cell_type": "code",
      "metadata": {
        "id": "xPvviEG3EcsD",
        "colab_type": "code",
        "colab": {}
      },
      "source": [
        "# download/unzip metrics \n",
        "# Get pretrained metrics\n",
        "# %cd /content/\n",
        "# Helpers.GdriveD.GdriveD(images_model_code, '/content/'+images_set_name+'_model_in.zip')\n",
        "# !unzip /content/{images_set_name}_model_in.zip -d metrics/"
      ],
      "execution_count": 0,
      "outputs": []
    },
    {
      "cell_type": "code",
      "metadata": {
        "id": "-SdaTrm4g_KU",
        "colab_type": "code",
        "colab": {}
      },
      "source": [
        "# # remove old crap before rezipping\n",
        "# !rm -r /content/metrics/images\n",
        "# !rm -r /content/metrics/events.out.tfevents*\n",
        "# !rm -r /content/metrics/index.html\n",
        "# hlp.Me(['globx','/content/metrics','model-*'])"
      ],
      "execution_count": 0,
      "outputs": []
    },
    {
      "cell_type": "code",
      "metadata": {
        "colab_type": "code",
        "id": "gQn7oz9xVXKW",
        "colab": {}
      },
      "source": [
        "# # rezip\n",
        "# %cd /content/\n",
        "# Helpers.Core()\n",
        "# obj=Helpers.core.Core()\n",
        "# folder_of_model='metrics'\n",
        "# print(obj.Gdrive_root+'/models')\n",
        "# result=obj.H.zip(images_set_name+'model',obj.Gdrive_root+'/models',folder_of_model).ZipUp\n",
        "# # print(result)\n",
        "# zip_hash=result.split('(id) ')[1]\n",
        "# print(zip_hash)"
      ],
      "execution_count": 0,
      "outputs": []
    },
    {
      "cell_type": "code",
      "metadata": {
        "id": "CoCVVnRdKqTY",
        "colab_type": "code",
        "colab": {}
      },
      "source": [
        "# test the current checkpoint\n",
        "# # get metrics\n",
        "# %cd /content/\n",
        "# Helpers.GdriveD.GdriveD(images_model_code, '/content/'+images_set_name+'_model_in.zip')\n",
        "# !unzip /content/{images_set_name}_model_in.zip -d metrics/\n",
        "# # test \n",
        "# %cd /content/installed_repos/piss-ant-pix2pix\n",
        "# !python pix2pix.py --mode test --output_dir /content/{images_set_name}_pretrained/test --input_dir /content/{images_set_name}images/_combined/val --max_steps 100 --which_direction \"BtoA\" --seed 0 --checkpoint /content/metrics\n",
        "# # export\n",
        "# !python pix2pix.py --mode export --output_dir /content/{images_set_name}_pretrained/exp --checkpoint /content/metrics\n"
      ],
      "execution_count": 0,
      "outputs": []
    },
    {
      "cell_type": "code",
      "metadata": {
        "id": "zHlCEqmZWDos",
        "colab_type": "code",
        "colab": {}
      },
      "source": [
        "\n",
        "# # rezip clean export backup\n",
        "# %cd /content/\n",
        "# Helpers.Core()\n",
        "# obj=Helpers.core.Core()\n",
        "# folder_of_model=images_set_name+'_pretrained/exp'\n",
        "# print(obj.Gdrive_root+'/models')\n",
        "# result=obj.H.zip(images_set_name+'model_exp',obj.Gdrive_root+'/models',folder_of_model).ZipUp\n",
        "# # print(result)\n",
        "# zip_hash=result.split('(id) ')[1]\n",
        "# print(zip_hash)"
      ],
      "execution_count": 0,
      "outputs": []
    },
    {
      "cell_type": "code",
      "metadata": {
        "id": "HnTRZBh7W2Hs",
        "colab_type": "code",
        "colab": {}
      },
      "source": [
        "# test exported path\n",
        "%cd /content/installed_repos/piss-ant-pix2pix\n",
        "!python pix2pix.py --mode test --output_dir /content/{images_set_name}_pretrained/exp_test --input_dir /content/{images_set_name}images/_combined/val --checkpoint /content/{images_set_name}_pretrained/exp_test --max_steps 100 --which_direction \"BtoA\" --seed 666\n"
      ],
      "execution_count": 0,
      "outputs": []
    }
  ]
}