{
  "nbformat": 4,
  "nbformat_minor": 0,
  "metadata": {
    "colab": {
      "name": "modeltransferv2_apes_imshow",
      "provenance": [],
      "private_outputs": true,
      "collapsed_sections": [],
      "include_colab_link": true
    },
    "kernelspec": {
      "name": "python3",
      "display_name": "Python 3"
    },
    "accelerator": "GPU"
  },
  "cells": [
    {
      "cell_type": "markdown",
      "metadata": {
        "id": "view-in-github",
        "colab_type": "text"
      },
      "source": [
        "<a href=\"https://colab.research.google.com/github/bxck75/piss-ant-pix2pix/blob/master/modeltransferv2_apes_imshow.ipynb\" target=\"_parent\"><img src=\"https://colab.research.google.com/assets/colab-badge.svg\" alt=\"Open In Colab\"/></a>"
      ]
    },
    {
      "cell_type": "code",
      "metadata": {
        "id": "mcGsrSyVEVLc",
        "colab_type": "code",
        "colab": {}
      },
      "source": [
        "# remove defaults\n",
        "!rm -r sample_data\n",
        "# Clone the repo\n",
        "!git clone https://github.com/bxck75/Python_Helpers.git\n",
        "\n",
        "# Change dir\n",
        "%cd /content/Python_Helpers\n",
        "# install\n",
        "!python setup.py install\n",
        "\n",
        "from IPython.display import clear_output\n",
        "import main\n",
        "import os\n",
        "import sys\n",
        "import IPython\n",
        "import Helpers\n",
        "P=Helpers.core.Core()\n",
        "hlp=P.H\n",
        "clear_output()"
      ],
      "execution_count": 0,
      "outputs": []
    },
    {
      "cell_type": "code",
      "metadata": {
        "id": "ZwAVOi1WEPPY",
        "colab_type": "code",
        "colab": {}
      },
      "source": [
        "# get repo\n",
        "%cd /content/\n",
        "hlp.repolist= hlp.repo_collection\n",
        "repos_sorted = hlp.repo_collection.repos_sorted\n",
        "A1=['bxck75/piss-ant-pix2pix']\n",
        "hlp.Me(['inst_reps',A1,'/content/installed_repos',False,True])\n",
        "clear_output()"
      ],
      "execution_count": 0,
      "outputs": []
    },
    {
      "cell_type": "code",
      "metadata": {
        "id": "CS20whuQLlWe",
        "colab_type": "code",
        "colab": {}
      },
      "source": [
        "# get images\n",
        "%cd /content/\n",
        "\n",
        "'''insects'''\n",
        "# images_set_name='insect'\n",
        "# images_set_code='1fbEUcBIvLwjlVFrUiW2g8KtRTvFSsW9D'\n",
        "# images_model_code='1eFR5ZHfp5PzPEnFv_v3xxE9T0tKPJTS4'\n",
        "'''garbagepailkids'''\n",
        "# images_set_name='garbagepailkids'\n",
        "# images_set_code='1nb8yr9TIJaiB1GFN9S4mD5GfTNvEQpW-'\n",
        "# images_model_code='1tp8Gm1fMuSQoLEEXQ_C1Dlw1N4wwFxKb'\n",
        "'''apes'''\n",
        "images_set_name='apes'\n",
        "images_set_code='1PUEpLgRfKKDvaMAVtKBVr-Z0ThQvOGWv'\n",
        "images_model_code='1vLmCOaActAAZ0bHdrv0YgP-rCnYHX0O9'\n",
        "\n",
        "'''fetch and unzip'''\n",
        "Helpers.GdriveD.GdriveD(images_set_code, '/content/'+images_set_name+'.zip')\n",
        "!unzip /content/{images_set_name}.zip\n",
        "clear_output()"
      ],
      "execution_count": 0,
      "outputs": []
    },
    {
      "cell_type": "code",
      "metadata": {
        "id": "eW2829u8K3oC",
        "colab_type": "code",
        "colab": {}
      },
      "source": [
        "# make dataset\n",
        "%cd /content/installed_repos/piss-ant-pix2pix\n",
        "!bash image_folder_make_set_train_colab.sh /content/{images_set_name} 1 prep\n",
        "clear_output()"
      ],
      "execution_count": 0,
      "outputs": []
    },
    {
      "cell_type": "code",
      "metadata": {
        "id": "Vky0_HEvLT3p",
        "colab_type": "code",
        "colab": {}
      },
      "source": [
        "# ''' \n",
        "#     startup loop  1x\n",
        "#     # 1 get metric from gdrive\n",
        "#     2 train 5 epochs\n",
        "#     3 dump metrics to gdrive with the same file id \n",
        "# '''\n",
        "# for i in range(1):\n",
        "#     # fetch metrics\n",
        "#     %cd /content/\n",
        "#     # Helpers.GdriveD.GdriveD(images_model_code, '/content/'+images_set_name+'_model_in.zip')\n",
        "#     # !unzip /content/{images_set_name}_model_in.zip -d metrics/\n",
        "#     # !rm -r /content/metrics/options.json\n",
        "#     # train epochs\n",
        "#     %cd /content/installed_repos/piss-ant-pix2pix\n",
        "#     !python pix2pix.py --output_dir /content/metrics --progress_freq 10 --save_freq 50 --summary_freq 50 --display_freq 200 --max_epochs 5 --mode train --input_dir /content/{images_set_name}images/_combined/train --which_direction 'BtoA'\n",
        "#     # dump metrics\n",
        "#     %cd /content/\n",
        "#     Helpers.Core()\n",
        "#     obj=Helpers.core.Core()\n",
        "#     folder_of_model='metrics'\n",
        "#     result=obj.H.zip(images_set_name+'model',obj.Gdrive_root+'/models',folder_of_model).ZipUp\n",
        "#     zip_hash=result.split('(id) ')[1]\n",
        "#     print(zip_hash)\n",
        "#     # delete old crap\n",
        "#     !rm -r /content/metrics\n",
        "#     !rm -r /content/{images_set_name}model.zip"
      ],
      "execution_count": 0,
      "outputs": []
    },
    {
      "cell_type": "markdown",
      "metadata": {
        "id": "w9whUNUbJxLw",
        "colab_type": "text"
      },
      "source": [
        "start values\n",
        "progress  epoch 1  step 10  image/sec 0.7  remaining 122m\n",
        "dloss_GAN 0.11989411\n",
        "gloss_GAN 0.060013566\n",
        "gloss_L1 0.043864187"
      ]
    },
    {
      "cell_type": "code",
      "metadata": {
        "id": "D_YjfSe8JOfy",
        "colab_type": "code",
        "colab": {}
      },
      "source": [
        "import sys\n",
        "import os\n",
        "import dlib\n",
        "import glob\n",
        "%matplotlib inline\n",
        "from matplotlib import pyplot as plt\n",
        "import cv2\n",
        "''' \n",
        "    loop  10x\n",
        "    1 get metric from gdrive\n",
        "    2 train 5 epochs\n",
        "    3 dump metrics to gdrive with the same file id \n",
        "'''\n",
        "for i in range(10):\n",
        "    ''' fetch metrics'''\n",
        "    %cd /content/\n",
        "    Helpers.GdriveD.GdriveD(images_model_code, '/content/'+images_set_name+'_model_in.zip')\n",
        "    !unzip /content/{images_set_name}_model_in.zip -d metrics/\n",
        "\n",
        "    ''' train epochs '''\n",
        "    %cd /content/installed_repos/piss-ant-pix2pix\n",
        "    !python pix2pix.py --checkpoint /content/metrics --output_dir /content/metrics --progress_freq 110 --save_freq 150 --summary_freq 0 --display_freq 100 --max_epochs 5 --mode train --input_dir /content/{images_set_name}images/_combined/train --which_direction 'BtoA'\n",
        "\n",
        "    %cd /content/\n",
        "    '''clean old models,test images,logs etc befor zipping'''\n",
        "    # delete unwanted\n",
        "    !rm -r /content/metrics/index.html\n",
        "\n",
        "    # clean up images\n",
        "    img_list=hlp.Me(['globx','/content/metrics/images','*.*g'])\n",
        "    img_list = sorted(img_list)\n",
        "    print(img_list)\n",
        "    n=6 #pop the last 6 items off the list (latest images)\n",
        "    latest = img_list[-n:]\n",
        "    for i in range(n):\n",
        "        img = dlib.load_rgb_image(latest[i]) \n",
        "        plt.imshow(img)\n",
        "    del img_list[-n:]\n",
        "    # delete the files left in the list\n",
        "    for i_file in img_list:\n",
        "        img = dlib.load_rgb_image(i_file) \n",
        "        plt.imshow(img)\n",
        "        print('deleting : ' + i_file)\n",
        "        !rm -r {i_file}\n",
        "    plt.show()\n",
        "\n",
        "    # clean up models\n",
        "    models_list=hlp.Me(['globx','/content/metrics','model-*'])\n",
        "    models_list = sorted(models_list)\n",
        "    print(models_list)\n",
        "    n=3 #pop the last 3 items off the list (latest model)\n",
        "    del models_list[-n:]\n",
        "    # delete the files left in the list\n",
        "    for m_file in models_list:\n",
        "        print('deleting : ' + m_file)\n",
        "        !rm -r {m_file}\n",
        "    # clean up events\n",
        "    events_list=hlp.Me(['globx','/content/metrics','events*'])\n",
        "    events_list = sorted(events_list)\n",
        "    print(events_list)\n",
        "    n=1 #pop the last item off the list (latest event) \n",
        "    del events_list[-n:]\n",
        "    # delete the files left in the list\n",
        "    for e_file in events_list:\n",
        "        print('deleting : ' + e_file)\n",
        "        !rm -r {e_file}\n",
        "\n",
        "    ''' zip metrics up to gdrive '''\n",
        "    %cd /content/\n",
        "    Helpers.Core()\n",
        "    obj=Helpers.core.Core()\n",
        "    folder_of_model='metrics'\n",
        "    result=obj.H.zip(images_set_name+'model',obj.Gdrive_root+'/models',folder_of_model).ZipUp\n",
        "    zip_hash=result.split('(id) ')[1]\n",
        "    print(zip_hash)\n",
        "\n",
        "    # delete old metrics before unpacking new in the beginning of the loop\n",
        "    !rm -r /content/metrics\n",
        "    !rm -r /content/{images_set_name}model.zip"
      ],
      "execution_count": 0,
      "outputs": []
    },
    {
      "cell_type": "code",
      "metadata": {
        "id": "ypa7AzDYG-Ca",
        "colab_type": "code",
        "colab": {}
      },
      "source": [
        "# # rewrite checkpointfile\n",
        "# !echo 'model_checkpoint_path: \"/content/metrics/model-21880\"' > /content/metrics/checkpoint\n",
        "# !echo 'all_model_checkpoint_paths: \"/content/metrics/model-21880\"' >> /content/metrics/checkpoint"
      ],
      "execution_count": 0,
      "outputs": []
    },
    {
      "cell_type": "code",
      "metadata": {
        "id": "xPvviEG3EcsD",
        "colab_type": "code",
        "colab": {}
      },
      "source": [
        "# # download/unzip metrics \n",
        "# Get pretrained metrics\n",
        "# %cd /content/\n",
        "# Helpers.GdriveD.GdriveD(images_model_code, '/content/'+images_set_name+'_model_in.zip')\n",
        "# !unzip /content/{images_set_name}_model_in.zip -d metrics/"
      ],
      "execution_count": 0,
      "outputs": []
    },
    {
      "cell_type": "code",
      "metadata": {
        "id": "-SdaTrm4g_KU",
        "colab_type": "code",
        "colab": {}
      },
      "source": [
        "# # remove old crap before rezipping\n",
        "# !rm -r /content/metrics/images\n",
        "# !rm -r /content/metrics/index.html\n",
        "\n",
        "# clean up models\n",
        "models_list=hlp.Me(['globx','/content/metrics','model-*'])\n",
        "models_list = sorted(models_list)\n",
        "print(models_list)\n",
        "n=3 #pop the last 3 items off the list (latest model)\n",
        "del models_list[-n:]\n",
        "for m_file in models_list:\n",
        "    print('deleting : ' + m_file)\n",
        "    !rm -r {m_file}\n",
        "\n",
        "# clean up events\n",
        "events_list=hlp.Me(['globx','/content/metrics','events*'])\n",
        "events_list = sorted(events_list)\n",
        "print(events_list)\n",
        "n=1 #pop the last 1 items off the list (latest event)\n",
        "del events_list[-n:]\n",
        "for e_file in events_list:\n",
        "    print('deleting : ' + e_file)\n",
        "    !rm -r {e_file}"
      ],
      "execution_count": 0,
      "outputs": []
    },
    {
      "cell_type": "code",
      "metadata": {
        "colab_type": "code",
        "id": "gQn7oz9xVXKW",
        "colab": {}
      },
      "source": [
        "# # rezip\n",
        "# %cd /content/\n",
        "# Helpers.Core()\n",
        "# obj=Helpers.core.Core()\n",
        "# folder_of_model='metrics'\n",
        "# print(obj.Gdrive_root+'/models')\n",
        "# result=obj.H.zip(images_set_name+'model',obj.Gdrive_root+'/models',folder_of_model).ZipUp\n",
        "# # print(result)\n",
        "# zip_hash=result.split('(id) ')[1]\n",
        "# print(zip_hash)"
      ],
      "execution_count": 0,
      "outputs": []
    },
    {
      "cell_type": "code",
      "metadata": {
        "id": "uZJRLD5ESxD_",
        "colab_type": "code",
        "colab": {}
      },
      "source": [
        "# test the current checkpoint\n",
        "# get metrics\n",
        "%cd /content/\n",
        "Helpers.GdriveD.GdriveD(images_model_code, '/content/'+images_set_name+'_model_in.zip')\n",
        "!unzip /content/{images_set_name}_model_in.zip -d metrics/\n",
        "# test \n",
        "%cd /content/installed_repos/piss-ant-pix2pix\n",
        "!python pix2pix.py --mode test --output_dir /content/{images_set_name}_pretrained/test --input_dir /content/{images_set_name}images/_combined/val --max_steps 100 --which_direction \"BtoA\" --seed 0 --checkpoint /content/metrics\n",
        "# export\n",
        "!python pix2pix.py --mode export --output_dir /content/{images_set_name}_pretrained/exp --checkpoint /content/metrics\n"
      ],
      "execution_count": 0,
      "outputs": []
    },
    {
      "cell_type": "code",
      "metadata": {
        "id": "4wanq7fpUvuV",
        "colab_type": "code",
        "colab": {}
      },
      "source": [
        "# /content/apes_pretrained/exp\n",
        "# rezip\n",
        "%cd /content/\n",
        "Helpers.Core()\n",
        "obj=Helpers.core.Core()\n",
        "folder_of_model=images_set_name+'_pretrained/exp'\n",
        "print(obj.Gdrive_root+'/models')\n",
        "result=obj.H.zip(images_set_name+'model_exp',obj.Gdrive_root+'/models',folder_of_model).ZipUp\n",
        "# print(result)\n",
        "zip_hash=result.split('(id) ')[1]\n",
        "print(zip_hash)"
      ],
      "execution_count": 0,
      "outputs": []
    },
    {
      "cell_type": "code",
      "metadata": {
        "colab_type": "code",
        "id": "1B5pz7RvyOGy",
        "colab": {}
      },
      "source": [
        "# Example python rename.py '/root/Bureaublad/data/boefjes/front' \n",
        "def rename(directory_in,directory_out):    \n",
        "    from PIL import Image\n",
        "    import os,sys,glob\n",
        "    # directory=sys.argv[1]\n",
        "    i=int(0)\n",
        "    for infilename in glob.iglob(directory_in+'/*.*g'):\n",
        "        im = Image.open(infilename)\n",
        "        rgb_im = im.convert('RGB')\n",
        "        outfilename = \"/img%d.png\" % int(i + 1)\n",
        "        outfile=os.path.join(directory_out, outfilename)\n",
        "        print(directory_out+outfile)\n",
        "        rgb_im.save(directory_out+outfile)\n",
        "        i += 1\n",
        "        \n",
        " edged_images = glob.iglob('/content/metrics/images/*inputs.png')\n",
        " predicted_images = glob.iglob('/content/metrics/images/*outputs.png')\n",
        " original_images = glob.iglob('/content/metrics/images/*targets.png')\n",
        "\n",
        "# zipping lists of lists  \n",
        "# using map() + __add__ \n",
        "import itertools \n",
        "  \n",
        "# initializing lists \n",
        "test_list1 = [[1, 3], [4, 5], [5, 6]] \n",
        "test_list2 = [[7, 9], [3, 2], [3, 10]] \n",
        "  \n",
        "# printing original lists \n",
        "print (\"The original list 1 is : \" + str(test_list1)) \n",
        "print (\"The original list 2 is : \" + str(test_list2)) \n",
        "  \n",
        "# using map() + __add__ \n",
        "# zipping lists of lists  \n",
        "res = [list(itertools.chain(*i))  \n",
        "       for i in zip(test_list1, test_list2)] \n",
        "      \n",
        "# printing result  \n",
        "print (\"The modified zipped list is : \" +  str(res))"
      ],
      "execution_count": 0,
      "outputs": []
    }
  ]
}