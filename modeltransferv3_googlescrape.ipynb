{
  "nbformat": 4,
  "nbformat_minor": 0,
  "metadata": {
    "colab": {
      "name": "modeltransferv3_googlescrape",
      "provenance": [],
      "private_outputs": true,
      "collapsed_sections": [],
      "include_colab_link": true
    },
    "kernelspec": {
      "name": "python3",
      "display_name": "Python 3"
    },
    "accelerator": "GPU"
  },
  "cells": [
    {
      "cell_type": "markdown",
      "metadata": {
        "id": "view-in-github",
        "colab_type": "text"
      },
      "source": [
        "<a href=\"https://colab.research.google.com/github/bxck75/piss-ant-pix2pix/blob/master/modeltransferv3_googlescrape.ipynb\" target=\"_parent\"><img src=\"https://colab.research.google.com/assets/colab-badge.svg\" alt=\"Open In Colab\"/></a>"
      ]
    },
    {
      "cell_type": "code",
      "metadata": {
        "id": "mcGsrSyVEVLc",
        "colab_type": "code",
        "colab": {}
      },
      "source": [
        "# remove defaults\n",
        "!rm -r sample_data\n",
        "# Clone the repo\n",
        "!git clone https://github.com/bxck75/Python_Helpers.git\n",
        "\n",
        "# Change dir\n",
        "%cd /content/Python_Helpers\n",
        "# install\n",
        "!python setup.py install\n",
        "\n",
        "from IPython.display import clear_output\n",
        "import main\n",
        "import os\n",
        "import sys\n",
        "import IPython\n",
        "import Helpers\n",
        "# get pix2pix repo\n",
        "P=Helpers.core.Core()\n",
        "hlp=P.H\n",
        "%cd /content/\n",
        "hlp.repolist= hlp.repo_collection\n",
        "repos_sorted = hlp.repo_collection.repos_sorted\n",
        "A1=['bxck75/piss-ant-pix2pix']\n",
        "hlp.Me(['inst_reps',A1,'/content/installed_repos',False,True])\n",
        "clear_output()"
      ],
      "execution_count": 0,
      "outputs": []
    },
    {
      "cell_type": "code",
      "metadata": {
        "id": "SUcIWNcuJDg8",
        "colab_type": "code",
        "colab": {}
      },
      "source": [
        "!rm -r /content/images"
      ],
      "execution_count": 0,
      "outputs": []
    },
    {
      "cell_type": "code",
      "metadata": {
        "id": "0G9MBIWCH_Ph",
        "colab_type": "code",
        "colab": {}
      },
      "source": [
        "# %cd /content/\n",
        "# dir (Helpers.core.GoImgScrape.GoogleImageCrawler)\n",
        "# img_crawler = Helpers.core.GoImgScrape.GoogleImageCrawler()\n",
        "# help(img_crawler)\n",
        "# search='orc face'\n",
        "# img_crawler.crawl(search,max_num=200)"
      ],
      "execution_count": 0,
      "outputs": []
    },
    {
      "cell_type": "code",
      "metadata": {
        "id": "9mmUj0m2LMgk",
        "colab_type": "code",
        "colab": {}
      },
      "source": [
        "%cd /content/\n",
        "'''Crawl'''\n",
        "dir (Helpers.core.GoImgScrape.GoogleImageCrawler)\n",
        "img_crawler = Helpers.core.GoImgScrape.GoogleImageCrawler()\n",
        "help(img_crawler)\n",
        "search='orc face'\n",
        "img_crawler.crawl(search,max_num=50)\n",
        "''' prep images '''\n",
        "images_set_name= search.replace(' ','_')\n",
        "!mkdir -p {images_set_name}\n",
        "!cp /content/images/* /content/{images_set_name}/\n",
        "# !rm -r /content/images\n",
        "''' zip new pack to gdrive '''\n",
        "%cd /content/\n",
        "Helpers.Core()\n",
        "obj=Helpers.core.Core()\n",
        "folder_of_model='/content/'+images_set_name\n",
        "result=obj.H.zip(images_set_name,obj.Gdrive_root,folder_of_model).ZipUp\n",
        "zip_hash=result.split('(id) ')[1]\n",
        "'''remove the image folder'''\n",
        "# !rm -r /content/{images_set_name}\n",
        "images_set_code=zip_hash\n",
        "print(images_set_name)\n",
        "print(images_set_code)\n",
        "'''Download the image folder'''\n",
        "Helpers.GdriveD.GdriveD(images_set_code, '/content/'+images_set_name+'_in.zip')\n",
        "!unzip /content/{images_set_name}_in.zip -d {images_set_name}_in\n",
        "'''make the set'''\n",
        "%cd /content/installed_repos/piss-ant-pix2pix\n",
        "!bash image_folder_make_set_train_colab.sh /content/{images_set_name} 1 prep\n",
        "# clear_output()"
      ],
      "execution_count": 0,
      "outputs": []
    },
    {
      "cell_type": "code",
      "metadata": {
        "id": "5pWD3pqhPSYp",
        "colab_type": "code",
        "colab": {}
      },
      "source": [
        "# remove\n",
        "!rm  -r /content/p2p_process_tmp\n",
        "!rm -r /content/orc_faceimages\n",
        "!rm -r /content/orc_face_resize\n",
        "!rm /content/orc_face.zip"
      ],
      "execution_count": 0,
      "outputs": []
    },
    {
      "cell_type": "code",
      "metadata": {
        "id": "CS20whuQLlWe",
        "colab_type": "code",
        "colab": {}
      },
      "source": [
        "# get images\n",
        "%cd /content/\n",
        "# images_set_name='insect'\n",
        "# images_set_code='1fbEUcBIvLwjlVFrUiW2g8KtRTvFSsW9D'\n",
        "# images_model_code='1eFR5ZHfp5PzPEnFv_v3xxE9T0tKPJTS4'\n",
        "\n",
        "# images_set_name='apes'\n",
        "# images_set_code='1PUEpLgRfKKDvaMAVtKBVr-Z0ThQvOGWv'\n",
        "# images_model_code='1vLmCOaActAAZ0bHdrv0YgP-rCnYHX0O9'\n",
        "\n",
        "# images_set_name='garbagepailkids'\n",
        "# images_set_code='1nb8yr9TIJaiB1GFN9S4mD5GfTNvEQpW-'\n",
        "# images_model_code='1tp8Gm1fMuSQoLEEXQ_C1Dlw1N4wwFxKb'\n",
        "%cd /content/\n",
        "Helpers.GdriveD.GdriveD(images_set_code, '/content/'+images_set_name+'.zip')\n",
        "!unzip /content/{images_set_name}.zip \n",
        "%cd /content/installed_repos/piss-ant-pix2pix\n",
        "!bash image_folder_make_set_train_colab.sh /content/{images_set_name} 1 prep\n",
        "clear_output()"
      ],
      "execution_count": 0,
      "outputs": []
    },
    {
      "cell_type": "code",
      "metadata": {
        "id": "Vky0_HEvLT3p",
        "colab_type": "code",
        "colab": {}
      },
      "source": [
        "import sys\n",
        "import os\n",
        "import dlib\n",
        "import glob\n",
        "%matplotlib inline\n",
        "from matplotlib import pyplot as plt\n",
        "import cv2\n",
        "''' \n",
        "    loop  1x\n",
        "    1 get metric from gdrive\n",
        "    2 train 5 epochs\n",
        "    3 dump metrics to gdrive with the same file id \n",
        "'''\n",
        "for i in range(1):\n",
        "    ''' fetch metrics'''\n",
        "    %cd /content/\n",
        "    # Helpers.GdriveD.GdriveD(images_model_code, '/content/'+images_set_name+'_model_in.zip')\n",
        "    # !unzip /content/{images_set_name}_model_in.zip -d metrics/\n",
        "\n",
        "    ''' train epochs '''\n",
        "    %cd /content/installed_repos/piss-ant-pix2pix\n",
        "    !python pix2pix.py --output_dir /content/metrics --progress_freq 110 --save_freq 150 --summary_freq 0 --display_freq 10 --max_epochs 1 --mode train --input_dir /content/{images_set_name}images/_combined/train --which_direction 'BtoA'\n",
        "\n",
        "    %cd /content/\n",
        "    '''clean old models,test images,logs etc befor zipping'''\n",
        "    # delete unwanted\n",
        "    !rm -r /content/metrics/index.html\n",
        "\n",
        "    # clean up images\n",
        "    img_list=hlp.Me(['globx','/content/metrics/images','*.*g'])\n",
        "    img_list = sorted(img_list)\n",
        "    print(img_list)\n",
        "    n=6 #pop the last 6 items off the list (latest images)\n",
        "    latest = img_list[-n:]\n",
        "    for i in range(n):\n",
        "        img = dlib.load_rgb_image(latest[i]) \n",
        "        plt.imshow(img)\n",
        "        plt.show()\n",
        "    del img_list[-n:]\n",
        "    # delete the files left in the list\n",
        "    for i_file in img_list:\n",
        "        img = dlib.load_rgb_image(i_file) \n",
        "        plt.imshow(img)\n",
        "        plt.show()\n",
        "        print('deleting : ' + i_file)\n",
        "        !echo rm -r {i_file}\n",
        "\n",
        "    # clean up models\n",
        "    models_list=hlp.Me(['globx','/content/metrics','model-*'])\n",
        "    models_list = sorted(models_list)\n",
        "    print(models_list)\n",
        "    n=6 #pop the last 3 items off the list (latest model)\n",
        "    del models_list[-n:]\n",
        "    # delete the files left in the list\n",
        "    for m_file in models_list:\n",
        "        print('deleting : ' + m_file)\n",
        "        !echo rm -r {m_file}\n",
        "\n",
        "    # clean up events\n",
        "    events_list=hlp.Me(['globx','/content/metrics','events*'])\n",
        "    events_list = sorted(events_list)\n",
        "    print(events_list)\n",
        "    n=3 #pop the last item off the list (latest event) \n",
        "    del events_list[-n:]\n",
        "    # delete the files left in the list\n",
        "    for e_file in events_list:\n",
        "        print('deleting : ' + e_file)\n",
        "        !echo rm -r {e_file}\n",
        "\n",
        "    ''' zip metrics up to gdrive '''\n",
        "    %cd /content/\n",
        "    Helpers.Core()\n",
        "    obj=Helpers.core.Core()\n",
        "    folder_of_model='metrics'\n",
        "    result=obj.H.zip(images_set_name+'model',obj.Gdrive_root+'/models',folder_of_model).ZipUp\n",
        "    zip_hash=result.split('(id) ')[1]\n",
        "    print(zip_hash)\n",
        "    \n",
        "    # delete old metrics before unpacking new in the beginning of the loop\n",
        "    !rm -r /content/metrics\n",
        "    !rm -r /content/{images_set_name}model.zip"
      ],
      "execution_count": 0,
      "outputs": []
    },
    {
      "cell_type": "code",
      "metadata": {
        "id": "N-Exj60zzKXe",
        "colab_type": "code",
        "colab": {}
      },
      "source": [
        "images_model_code = zip_hash\n",
        "print(images_model_code)\n",
        "# !rm -r /content/metrics"
      ],
      "execution_count": 0,
      "outputs": []
    },
    {
      "cell_type": "code",
      "metadata": {
        "id": "XNKG7MZY1LCO",
        "colab_type": "code",
        "colab": {}
      },
      "source": [
        "def loadTboard():\n",
        "    '''load tensorboard'''\n",
        "    import datetime, os ,tensorboard\n",
        "    # install tensorboard\n",
        "    #     hlp.Me(['cml','pip install -q tensorflow'])\n",
        "    # Load the TensorBoard notebook extension\n",
        "    try:\n",
        "        # %load_ext tensorboard\n",
        "        %load_ext tensorboard.notebook\n",
        "    except:\n",
        "        %reload_ext tensorboard.notebook\n",
        "loadTboard()"
      ],
      "execution_count": 0,
      "outputs": []
    },
    {
      "cell_type": "code",
      "metadata": {
        "id": "CAVsIjMY1O2P",
        "colab_type": "code",
        "colab": {}
      },
      "source": [
        "# %tensorboard --logdir /content/metrics"
      ],
      "execution_count": 0,
      "outputs": []
    },
    {
      "cell_type": "markdown",
      "metadata": {
        "id": "w9whUNUbJxLw",
        "colab_type": "text"
      },
      "source": [
        "start values\n",
        "progress  epoch 1  step 10  image/sec 0.7  remaining 122m\n",
        "dloss_GAN 0.11989411\n",
        "gloss_GAN 0.060013566\n",
        "gloss_L1 0.043864187"
      ]
    },
    {
      "cell_type": "code",
      "metadata": {
        "id": "D_YjfSe8JOfy",
        "colab_type": "code",
        "colab": {}
      },
      "source": [
        "import sys\n",
        "import os\n",
        "import dlib\n",
        "import glob\n",
        "%matplotlib inline\n",
        "from matplotlib import pyplot as plt\n",
        "import cv2\n",
        "''' \n",
        "    loop  10x\n",
        "    1 get metric from gdrive\n",
        "    2 train 5 epochs\n",
        "    3 dump metrics to gdrive with the same file id \n",
        "'''\n",
        "%tensorboard --logdir /content/metrics\n",
        "for i in range(1):\n",
        "    ''' fetch metrics'''\n",
        "    %cd /content/\n",
        "    Helpers.GdriveD.GdriveD(images_model_code, '/content/'+images_set_name+'_model_in.zip')\n",
        "    !unzip /content/{images_set_name}_model_in.zip -d metrics/\n",
        "\n",
        "    ''' train epochs '''\n",
        "    %cd /content/installed_repos/piss-ant-pix2pix\n",
        "    !python pix2pix.py --checkpoint /content/metrics --output_dir /content/metrics --progress_freq 50 --save_freq 75 --summary_freq 10 --display_freq 10 --max_epochs 3 --mode train --input_dir /content/{images_set_name}images/_combined/train --which_direction 'BtoA'\n",
        "\n",
        "    %cd /content/\n",
        "    '''clean old models,test images,logs etc befor zipping'''\n",
        "    # delete unwanted\n",
        "    !rm -r /content/metrics/index.html\n",
        "\n",
        "    # clean up images\n",
        "    img_list=hlp.Me(['globx','/content/metrics/images','*.*g'])\n",
        "    img_list = sorted(img_list)\n",
        "    print(img_list)\n",
        "    n=6 #pop the last 6 items off the list (latest images)\n",
        "    latest = img_list[-n:]\n",
        "    for i in range(n):\n",
        "        img = dlib.load_rgb_image(latest[i]) \n",
        "        plt.imshow(img)\n",
        "        plt.show()\n",
        "    del img_list[-n:]\n",
        "    # delete the files left in the list\n",
        "    for i_file in img_list:\n",
        "        img = dlib.load_rgb_image(i_file) \n",
        "        plt.imshow(img)\n",
        "        plt.show()\n",
        "        print('deleting : ' + i_file)\n",
        "        !rm -r {i_file}\n",
        "\n",
        "    # clean up models\n",
        "    models_list=hlp.Me(['globx','/content/metrics','model-*'])\n",
        "    models_list = sorted(models_list)\n",
        "    print(models_list)\n",
        "    n=6 #pop the last 6 items off the list (latest model)\n",
        "    del models_list[-n:]\n",
        "    # delete the files left in the list\n",
        "    for m_file in models_list:\n",
        "        print('deleting : ' + m_file)\n",
        "        !echo rm -r {m_file}\n",
        "    # clean up events\n",
        "    events_list=hlp.Me(['globx','/content/metrics','events*'])\n",
        "    events_list = sorted(events_list)\n",
        "    print(events_list)\n",
        "    n=3 #pop the last item off the list (latest event) \n",
        "    del events_list[-n:]\n",
        "    # delete the files left in the list\n",
        "    for e_file in events_list:\n",
        "        print('deleting : ' + e_file)\n",
        "        !echo rm -r {e_file}\n",
        "\n",
        "    ''' zip metrics up to gdrive '''\n",
        "    %cd /content/\n",
        "    Helpers.Core()\n",
        "    obj=Helpers.core.Core()\n",
        "    folder_of_model='metrics'\n",
        "    result=obj.H.zip(images_set_name+'model',obj.Gdrive_root+'/models',folder_of_model).ZipUp\n",
        "    zip_hash=result.split('(id) ')[1]\n",
        "    print(zip_hash)\n",
        "\n",
        "    # delete old metrics before unpacking new in the beginning of the loop\n",
        "    # !rm -r /content/metrics\n",
        "    !rm -r /content/{images_set_name}model.zip"
      ],
      "execution_count": 0,
      "outputs": []
    },
    {
      "cell_type": "code",
      "metadata": {
        "id": "IoAUiribw0-U",
        "colab_type": "code",
        "colab": {}
      },
      "source": [
        "# !rm -r /content/metrics"
      ],
      "execution_count": 0,
      "outputs": []
    },
    {
      "cell_type": "code",
      "metadata": {
        "id": "ypa7AzDYG-Ca",
        "colab_type": "code",
        "colab": {}
      },
      "source": [
        "# # rewrite checkpointfile\n",
        "# !echo 'model_checkpoint_path: \"/content/metrics/model-21880\"' > /content/metrics/checkpoint\n",
        "# !echo 'all_model_checkpoint_paths: \"/content/metrics/model-21880\"' >> /content/metrics/checkpoint"
      ],
      "execution_count": 0,
      "outputs": []
    },
    {
      "cell_type": "code",
      "metadata": {
        "id": "xPvviEG3EcsD",
        "colab_type": "code",
        "colab": {}
      },
      "source": [
        "# download/unzip metrics \n",
        "# Get pretrained metrics\n",
        "# %cd /content/\n",
        "# Helpers.GdriveD.GdriveD(images_model_code, '/content/'+images_set_name+'_model_in.zip')\n",
        "# !unzip /content/{images_set_name}_model_in.zip -d metrics/"
      ],
      "execution_count": 0,
      "outputs": []
    },
    {
      "cell_type": "code",
      "metadata": {
        "id": "-SdaTrm4g_KU",
        "colab_type": "code",
        "colab": {}
      },
      "source": [
        "# # remove old crap before rezipping\n",
        "# !rm -r /content/metrics/images\n",
        "# !rm -r /content/metrics/events.out.tfevents*\n",
        "# !rm -r /content/metrics/index.html\n",
        "hlp.Me(['globx','/content/metrics','model-*'])"
      ],
      "execution_count": 0,
      "outputs": []
    },
    {
      "cell_type": "code",
      "metadata": {
        "colab_type": "code",
        "id": "gQn7oz9xVXKW",
        "colab": {}
      },
      "source": [
        "# # rezip\n",
        "# %cd /content/\n",
        "# Helpers.Core()\n",
        "# obj=Helpers.core.Core()\n",
        "# folder_of_model='metrics'\n",
        "# print(obj.Gdrive_root+'/models')\n",
        "# result=obj.H.zip(images_set_name+'model',obj.Gdrive_root+'/models',folder_of_model).ZipUp\n",
        "# # print(result)\n",
        "# zip_hash=result.split('(id) ')[1]\n",
        "# print(zip_hash)"
      ],
      "execution_count": 0,
      "outputs": []
    },
    {
      "cell_type": "code",
      "metadata": {
        "id": "CoCVVnRdKqTY",
        "colab_type": "code",
        "colab": {}
      },
      "source": [
        "# test the current checkpoint\n",
        "# get metrics\n",
        "%cd /content/\n",
        "Helpers.GdriveD.GdriveD(images_model_code, '/content/'+images_set_name+'_model_in.zip')\n",
        "!unzip /content/{images_set_name}_model_in.zip -d metrics/\n",
        "# test \n",
        "%cd /content/installed_repos/piss-ant-pix2pix\n",
        "!python pix2pix.py --mode test --output_dir /content/{images_set_name}_pretrained/test --input_dir /content/{images_set_name}images/_combined/val --max_steps 100 --which_direction \"BtoA\" --seed 0 --checkpoint /content/metrics\n",
        "# export\n",
        "!python pix2pix.py --mode export --output_dir /content/{images_set_name}_pretrained/exp --checkpoint /content/metrics\n"
      ],
      "execution_count": 0,
      "outputs": []
    },
    {
      "cell_type": "code",
      "metadata": {
        "id": "zHlCEqmZWDos",
        "colab_type": "code",
        "colab": {}
      },
      "source": [
        "\n",
        "# rezip clean export backup\n",
        "%cd /content/\n",
        "Helpers.Core()\n",
        "obj=Helpers.core.Core()\n",
        "folder_of_model=images_set_name+'_pretrained/exp'\n",
        "print(obj.Gdrive_root+'/models')\n",
        "result=obj.H.zip(images_set_name+'model_exp',obj.Gdrive_root+'/models',folder_of_model).ZipUp\n",
        "# print(result)\n",
        "zip_hash=result.split('(id) ')[1]\n",
        "print(zip_hash)"
      ],
      "execution_count": 0,
      "outputs": []
    },
    {
      "cell_type": "code",
      "metadata": {
        "id": "HnTRZBh7W2Hs",
        "colab_type": "code",
        "colab": {}
      },
      "source": [
        "# test exported path\n",
        "%cd /content/installed_repos/piss-ant-pix2pix\n",
        "!python pix2pix.py --mode test --output_dir /content/{images_set_name}_pretrained/exp_test --input_dir /content/{images_set_name}images/_combined/val --checkpoint /content/garbagepailkids_pretrained_test --max_steps 100 --which_direction \"BtoA\" --seed 0 --checkpoint /content/metrics\n"
      ],
      "execution_count": 0,
      "outputs": []
    }
  ]
}