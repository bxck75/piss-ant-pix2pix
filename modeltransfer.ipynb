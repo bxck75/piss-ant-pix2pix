{
  "nbformat": 4,
  "nbformat_minor": 0,
  "metadata": {
    "colab": {
      "name": "modeltransfer",
      "provenance": [],
      "private_outputs": true,
      "collapsed_sections": [],
      "include_colab_link": true
    },
    "kernelspec": {
      "name": "python3",
      "display_name": "Python 3"
    },
    "accelerator": "GPU"
  },
  "cells": [
    {
      "cell_type": "markdown",
      "metadata": {
        "id": "view-in-github",
        "colab_type": "text"
      },
      "source": [
        "<a href=\"https://colab.research.google.com/github/bxck75/piss-ant-pix2pix/blob/master/modeltransfer.ipynb\" target=\"_parent\"><img src=\"https://colab.research.google.com/assets/colab-badge.svg\" alt=\"Open In Colab\"/></a>"
      ]
    },
    {
      "cell_type": "code",
      "metadata": {
        "id": "mcGsrSyVEVLc",
        "colab_type": "code",
        "colab": {}
      },
      "source": [
        "# remove defaults\n",
        "!rm -r sample_data\n",
        "# Clone the repo\n",
        "!git clone https://github.com/bxck75/Python_Helpers.git\n",
        "\n",
        "# Change dir\n",
        "%cd /content/Python_Helpers\n",
        "# install\n",
        "!python setup.py install\n",
        "\n",
        "from IPython.display import clear_output\n",
        "import main\n",
        "import os\n",
        "import sys\n",
        "import IPython\n",
        "import Helpers\n",
        "P=Helpers.core.Core()\n",
        "hlp=P.H\n",
        "clear_output()"
      ],
      "execution_count": 0,
      "outputs": []
    },
    {
      "cell_type": "code",
      "metadata": {
        "id": "ZwAVOi1WEPPY",
        "colab_type": "code",
        "colab": {}
      },
      "source": [
        "# get repo\n",
        "%cd /content/\n",
        "hlp.repolist= hlp.repo_collection\n",
        "repos_sorted = hlp.repo_collection.repos_sorted\n",
        "A1=['bxck75/piss-ant-pix2pix']\n",
        "hlp.Me(['inst_reps',A1,'/content/installed_repos',False,True])\n",
        "clear_output()"
      ],
      "execution_count": 0,
      "outputs": []
    },
    {
      "cell_type": "code",
      "metadata": {
        "id": "CS20whuQLlWe",
        "colab_type": "code",
        "colab": {}
      },
      "source": [
        "# get images\n",
        "%cd /content/\n",
        "images_set_name='insect'\n",
        "images_set_code='1fbEUcBIvLwjlVFrUiW2g8KtRTvFSsW9D'\n",
        "images_model_code='1eFR5ZHfp5PzPEnFv_v3xxE9T0tKPJTS4'\n",
        "\n",
        "# https://drive.google.com/open?id=1PUEpLgRfKKDvaMAVtKBVr-Z0ThQvOGWv # images\n",
        "\n",
        "# images_set_name='apes'\n",
        "# images_set_code='1PUEpLgRfKKDvaMAVtKBVr-Z0ThQvOGWv'\n",
        "# images_model_code='1eFR5ZHfp5PzPEnFv_v3xxE9T0tKPJTS4'\n",
        "\n",
        "\n",
        "Helpers.GdriveD.GdriveD(images_set_code, '/content/'+images_set_name+'.zip')\n",
        "!unzip /content/{images_set_name}.zip\n",
        "clear_output()"
      ],
      "execution_count": 0,
      "outputs": []
    },
    {
      "cell_type": "code",
      "metadata": {
        "id": "eW2829u8K3oC",
        "colab_type": "code",
        "colab": {}
      },
      "source": [
        "# make dataset\n",
        "%cd /content/installed_repos/piss-ant-pix2pix\n",
        "!bash image_folder_make_set_train_colab.sh /content/{images_set_name} 1 prep\n",
        "clear_output()"
      ],
      "execution_count": 0,
      "outputs": []
    },
    {
      "cell_type": "code",
      "metadata": {
        "id": "LCRBKcgLqa5a",
        "colab_type": "code",
        "colab": {}
      },
      "source": [
        "# ''' \n",
        "#     startup loop  1x\n",
        "#     # 1 get metric from gdrive\n",
        "#     2 train 5 epochs\n",
        "#     3 dump metrics to gdrive with the same file id \n",
        "# '''\n",
        "# for i in range(1):\n",
        "#     # fetch metrics\n",
        "#     %cd /content/\n",
        "#     # Helpers.GdriveD.GdriveD(images_model_code, '/content/'+images_set_name+'_model_in.zip')\n",
        "#     # !unzip /content/{images_set_name}_model_in.zip -d metrics/\n",
        "#     # !rm -r /content/metrics/options.json\n",
        "#     # train epochs\n",
        "#     %cd /content/installed_repos/piss-ant-pix2pix\n",
        "#     !python pix2pix.py --output_dir /content/metrics --progress_freq 10 --save_freq 50 --summary_freq 50 --display_freq 200 --max_epochs 5 --mode train --input_dir /content/{images_set_name}images/_combined/train --which_direction 'BtoA'\n",
        "#     # dump metrics\n",
        "#     %cd /content/\n",
        "#     Helpers.Core()\n",
        "#     obj=Helpers.core.Core()\n",
        "#     folder_of_model='metrics'\n",
        "#     result=obj.H.zip(images_set_name+'model',obj.Gdrive_root+'/models',folder_of_model).ZipUp\n",
        "#     zip_hash=result.split('(id) ')[1]\n",
        "#     print(zip_hash)\n",
        "#     # delete old crap\n",
        "#     !rm -r /content/metrics\n",
        "#     !rm -r /content/{images_set_name}model.zip"
      ],
      "execution_count": 0,
      "outputs": []
    },
    {
      "cell_type": "code",
      "metadata": {
        "id": "Vky0_HEvLT3p",
        "colab_type": "code",
        "colab": {}
      },
      "source": [
        "''' \n",
        "    loop  10x\n",
        "    1 get metric from gdrive\n",
        "    2 train 5 epochs\n",
        "    3 dump metrics to gdrive with the same file id \n",
        "'''\n",
        "for i in range(10):\n",
        "    # fetch metrics\n",
        "    %cd /content/\n",
        "    Helpers.GdriveD.GdriveD(images_model_code, '/content/'+images_set_name+'_model_in.zip')\n",
        "    !unzip /content/{images_set_name}_model_in.zip -d metrics/\n",
        "    # train epochs\n",
        "    %cd /content/installed_repos/piss-ant-pix2pix\n",
        "    !python pix2pix.py --checkpoint /content/metrics --output_dir /content/metrics --progress_freq 10 --save_freq 50 --summary_freq 50 --display_freq 50 --max_epochs 5 --mode train --input_dir /content/{images_set_name}images/_combined/train --which_direction 'BtoA'\n",
        "\n",
        "    %cd /content/\n",
        "    '''clean old models,test images,logs etc befor zipping'''\n",
        "    # delete unwanted\n",
        "    !rm -r /content/metrics/images    \n",
        "    !rm -r /content/metrics/index.html\n",
        "    # clean up models\n",
        "    models_list=hlp.Me(['globx','/content/metrics','model-*'])\n",
        "    models_list = sorted(models_list)\n",
        "    print(models_list)\n",
        "    n=3 #pop the last 3 items off the list (latest model)\n",
        "    del models_list[-n:]\n",
        "    # delete the files left in the list\n",
        "    for m_file in models_list:\n",
        "        print('deleting : ' + m_file)\n",
        "        !rm -r {m_file}\n",
        "    # clean up events\n",
        "    events_list=hlp.Me(['globx','/content/metrics','events*'])\n",
        "    events_list = sorted(events_list)\n",
        "    print(events_list)\n",
        "    n=1 #pop the last item off the list (latest event) \n",
        "    del events_list[-n:]\n",
        "    # delete the files left in the list\n",
        "    for e_file in events_list:\n",
        "        print('deleting : ' + e_file)\n",
        "        !rm -r {e_file}\n",
        "        \n",
        "    Helpers.Core()\n",
        "    obj=Helpers.core.Core()\n",
        "    folder_of_model='metrics'\n",
        "    result=obj.H.zip(images_set_name+'model',obj.Gdrive_root+'/models',folder_of_model).ZipUp\n",
        "    zip_hash=result.split('(id) ')[1]\n",
        "    print(zip_hash)\n",
        "    # delete old crap\n",
        "    !rm -r /content/metrics\n",
        "    !rm -r /content/{images_set_name}model.zip"
      ],
      "execution_count": 0,
      "outputs": []
    },
    {
      "cell_type": "code",
      "metadata": {
        "id": "xPvviEG3EcsD",
        "colab_type": "code",
        "colab": {}
      },
      "source": [
        "# # download/unzip metrics \n",
        "# # Get pretrained metrics\n",
        "# %cd /content/\n",
        "# Helpers.GdriveD.GdriveD(images_model_code, '/content/'+images_set_name+'_model_in.zip')\n",
        "# !unzip /content/{images_set_name}_model_in.zip -d metrics/"
      ],
      "execution_count": 0,
      "outputs": []
    },
    {
      "cell_type": "code",
      "metadata": {
        "id": "-SdaTrm4g_KU",
        "colab_type": "code",
        "colab": {}
      },
      "source": [
        "# # remove old crap before rezipping\n",
        "# !rm -r /content/metrics/images\n",
        "# !rm -r /content/metrics/events.out.tfevents*\n",
        "# !rm -r /content/metrics/model-154*\n",
        "# !rm -r /content/metrics/index.html"
      ],
      "execution_count": 0,
      "outputs": []
    },
    {
      "cell_type": "code",
      "metadata": {
        "colab_type": "code",
        "id": "gQn7oz9xVXKW",
        "colab": {}
      },
      "source": [
        "# rezip\n",
        "%cd /content/\n",
        "Helpers.Core()\n",
        "obj=Helpers.core.Core()\n",
        "folder_of_model='metrics'\n",
        "print(obj.Gdrive_root+'/models')\n",
        "result=obj.H.zip(images_set_name+'model',obj.Gdrive_root+'/models',folder_of_model).ZipUp\n",
        "# print(result)\n",
        "zip_hash=result.split('(id) ')[1]\n",
        "print(zip_hash)"
      ],
      "execution_count": 0,
      "outputs": []
    },
    {
      "cell_type": "code",
      "metadata": {
        "id": "gsJKSS_NSdIm",
        "colab_type": "code",
        "colab": {}
      },
      "source": [
        "# test the current checkpoint\n",
        "# get metrics\n",
        "%cd /content/\n",
        "Helpers.GdriveD.GdriveD(images_model_code, '/content/'+images_set_name+'_model_in.zip')\n",
        "!unzip /content/{images_set_name}_model_in.zip -d metrics/\n",
        "# test \n",
        "%cd /content/installed_repos/piss-ant-pix2pix\n",
        "!python pix2pix.py --mode test --output_dir /content/{images_set_name}_pretrained/test --input_dir /content/{images_set_name}images/_combined/val --max_steps 100 --which_direction \"BtoA\" --seed 0 --checkpoint /content/metrics\n",
        "# export\n",
        "!python pix2pix.py --mode export --output_dir /content/{images_set_name}_pretrained/exp --checkpoint /content/metrics\n",
        "clear_output()"
      ],
      "execution_count": 0,
      "outputs": []
    },
    {
      "cell_type": "code",
      "metadata": {
        "id": "8EWlRbjoWIqV",
        "colab_type": "code",
        "colab": {}
      },
      "source": [
        "# /content/apes_pretrained/exp\n",
        "# rezip\n",
        "%cd /content/\n",
        "Helpers.Core()\n",
        "obj=Helpers.core.Core()\n",
        "folder_of_model=images_set_name+'_pretrained/exp'\n",
        "print(obj.Gdrive_root+'/models')\n",
        "result=obj.H.zip(images_set_name+'model_exp',obj.Gdrive_root+'/models',folder_of_model).ZipUp\n",
        "# print(result)\n",
        "zip_hash=result.split('(id) ')[1]\n",
        "print(zip_hash)"
      ],
      "execution_count": 0,
      "outputs": []
    }
  ]
}