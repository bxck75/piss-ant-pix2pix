{
  "nbformat": 4,
  "nbformat_minor": 0,
  "metadata": {
    "colab": {
      "name": "Untitled86.ipynb",
      "provenance": [],
      "private_outputs": true,
      "include_colab_link": true
    },
    "kernelspec": {
      "name": "python3",
      "display_name": "Python 3"
    }
  },
  "cells": [
    {
      "cell_type": "markdown",
      "metadata": {
        "id": "view-in-github",
        "colab_type": "text"
      },
      "source": [
        "<a href=\"https://colab.research.google.com/github/bxck75/piss-ant-pix2pix/blob/master/depthmap.ipynb\" target=\"_parent\"><img src=\"https://colab.research.google.com/assets/colab-badge.svg\" alt=\"Open In Colab\"/></a>"
      ]
    },
    {
      "cell_type": "code",
      "metadata": {
        "id": "rKPRRnwZJZdo",
        "colab_type": "code",
        "colab": {}
      },
      "source": [
        "!git clone https://github.com/bxck75/Pix2Depth.git\n",
        "!git clone https://github.com/bxck75/piss-ant-pix2pix.git"
      ],
      "execution_count": 0,
      "outputs": []
    },
    {
      "cell_type": "code",
      "metadata": {
        "id": "iP9tV8RsJzdS",
        "colab_type": "code",
        "colab": {}
      },
      "source": [
        "%cd /content/Pix2Depth\n",
        "!bash /download_nyu_dataset.sh"
      ],
      "execution_count": 0,
      "outputs": []
    },
    {
      "cell_type": "code",
      "metadata": {
        "id": "AZX-xBnRrKO1",
        "colab_type": "code",
        "colab": {}
      },
      "source": [
        "!python /content/Pix2Depth/save_all_images.py"
      ],
      "execution_count": 0,
      "outputs": []
    },
    {
      "cell_type": "code",
      "metadata": {
        "id": "FsJReT-EKIbH",
        "colab_type": "code",
        "colab": {}
      },
      "source": [
        "CONFIG = {\n",
        "        'development': False,\n",
        "        'host': [host],\n",
        "        'port': [port_number],\n",
        "        'pix2depth':{\n",
        "                'first_option':'pix2pix',\n",
        "                'second_option':'CycleGAN',\n",
        "                'third_option':'CNN',\n",
        "        },\n",
        "        'depth2pix':{\n",
        "                'first_option':'pix2pix',\n",
        "                'second_option':'CycleGAN',\n",
        "                'third_option':'MSCNN'\n",
        "        },\n",
        "        'portrait':{\n",
        "                'first_option': 'pix2pix',\n",
        "                'second_option': 'CycleGAN',\n",
        "                'third_option': 'CNN'\n",
        "        }\n",
        "}\n",
        "\n",
        "model_list = {  \n",
        "            'pix2depth':{ \n",
        "                'pix2pix' : load_model(),\n",
        "                'CycleGAN':load_model(),\n",
        "                'CNN': load_model(),\n",
        "                },\n",
        "            'depth2pix':{ \n",
        "                'pix2pix' : load_model(),\n",
        "                'CycleGAN':load_model(),\n",
        "                }\n",
        "             }"
      ],
      "execution_count": 0,
      "outputs": []
    }
  ]
}